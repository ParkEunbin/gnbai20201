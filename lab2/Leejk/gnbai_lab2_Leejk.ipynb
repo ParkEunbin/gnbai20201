{
  "nbformat": 4,
  "nbformat_minor": 0,
  "metadata": {
    "colab": {
      "name": "gnbai_lab2_Leejk.ipynb",
      "provenance": [],
      "collapsed_sections": [],
      "include_colab_link": true
    },
    "kernelspec": {
      "name": "python3",
      "display_name": "Python 3"
    }
  },
  "cells": [
    {
      "cell_type": "markdown",
      "metadata": {
        "id": "view-in-github",
        "colab_type": "text"
      },
      "source": [
        "<a href=\"https://colab.research.google.com/github/leuoo/gnbai20201/blob/master/lab2/Leejk/gnbai_lab2_Leejk.ipynb\" target=\"_parent\"><img src=\"https://colab.research.google.com/assets/colab-badge.svg\" alt=\"Open In Colab\"/></a>"
      ]
    },
    {
      "cell_type": "markdown",
      "metadata": {
        "id": "lmJpYA7HZ_7t",
        "colab_type": "text"
      },
      "source": [
        "# GnB AI Project Assignment\n",
        "## Lab 2: Regularized Regression\n"
      ]
    },
    {
      "cell_type": "markdown",
      "metadata": {
        "id": "Yu4gHSym93uq",
        "colab_type": "text"
      },
      "source": [
        "### Tasks\n",
        "1. data_lab2.txt의 데이터를 읽고, train 데이터 70%, test 데이터 30%로 분할하여라.\n",
        "2. 다음의 가설 함수들에 대해 파라미터의 최적값을 구하여라.\n",
        "    \n",
        "    (비정규화 회귀는 최소 제곱법, 정규화 회귀는 closed-form solution 사용)\n",
        "    \n",
        "    * 비정규화 회귀 – 선형 모델\n",
        "    * 비정규화 회귀 – 2차 다항식 모델\n",
        "    * 비정규화 회귀 – 5차 다항식 모델\n",
        "    * 정규화 회귀 – 5차 다항식 모델 (Ridge)\n",
        "\n",
        "3. train 데이터 위에 학습된 회귀자들을 plot하고, train error를 구하여라.\n",
        "4. test 데이터 위에 학습된 회귀자들을 plot하고, test error를 구하여라"
      ]
    },
    {
      "cell_type": "markdown",
      "metadata": {
        "id": "6rg2Wpkg-Crw",
        "colab_type": "text"
      },
      "source": [
        "### Imports"
      ]
    },
    {
      "cell_type": "code",
      "metadata": {
        "id": "HXboxQ0X93Tr",
        "colab_type": "code",
        "colab": {}
      },
      "source": [
        "import numpy as np\n",
        "import pandas as pd\n",
        "import matplotlib.pyplot as plt"
      ],
      "execution_count": 0,
      "outputs": []
    },
    {
      "cell_type": "markdown",
      "metadata": {
        "id": "NdLwXc2E94RG",
        "colab_type": "text"
      },
      "source": [
        "### 1. Train-test split"
      ]
    },
    {
      "cell_type": "code",
      "metadata": {
        "id": "CjjYC13fZ_FQ",
        "colab_type": "code",
        "outputId": "206cb49b-6483-45f4-9ea4-b3fb3d51d933",
        "colab": {
          "base_uri": "https://localhost:8080/",
          "height": 263
        }
      },
      "source": [
        "# pandas를 통해 txt 파일 읽어오기\n",
        "name_file = './data_lab2.txt'\n",
        "columns = ['x', 'y']\n",
        "\n",
        "data_pd = pd.read_csv(name_file, names=columns, sep='\\t')\n",
        "\n",
        "print(data_pd)"
      ],
      "execution_count": 35,
      "outputs": [
        {
          "output_type": "stream",
          "text": [
            "         x       y\n",
            "0     2.94  34.340\n",
            "1     3.06  34.520\n",
            "2     3.07  34.318\n",
            "3     3.16  34.360\n",
            "4     3.26  34.490\n",
            "..     ...     ...\n",
            "195  16.10  33.770\n",
            "196  16.14  33.808\n",
            "197  16.52  33.851\n",
            "198  16.82  33.953\n",
            "199  17.10  33.950\n",
            "\n",
            "[200 rows x 2 columns]\n"
          ],
          "name": "stdout"
        }
      ]
    },
    {
      "cell_type": "code",
      "metadata": {
        "id": "AKMnMDLL_qzu",
        "colab_type": "code",
        "outputId": "ae20b640-e77e-45e4-e905-4c5916de4e52",
        "colab": {
          "base_uri": "https://localhost:8080/",
          "height": 210
        }
      },
      "source": [
        "# pandas dataframe을 numpy array로 변환\n",
        "data_np = data_pd.values\n",
        "\n",
        "# data_pd는 더이상 필요하지 않으므로 메모리를 비워줍니다.\n",
        "del data_pd\n",
        "\n",
        "# 데이터의 순서를 랜덤으로 섞기\n",
        "np.random.shuffle(data_np)\n",
        "\n",
        "# 처음과 끝의 5개의 데이터를 출력\n",
        "print(data_np[:5])\n",
        "print('...')\n",
        "print(data_np[-5:])"
      ],
      "execution_count": 36,
      "outputs": [
        {
          "output_type": "stream",
          "text": [
            "[[ 6.04  33.987]\n",
            " [ 3.16  34.36 ]\n",
            " [ 8.49  34.047]\n",
            " [10.45  33.421]\n",
            " [12.43  33.24 ]]\n",
            "...\n",
            "[[ 6.34  34.   ]\n",
            " [ 3.32  34.352]\n",
            " [14.95  33.654]\n",
            " [ 4.01  34.23 ]\n",
            " [13.22  33.478]]\n"
          ],
          "name": "stdout"
        }
      ]
    },
    {
      "cell_type": "code",
      "metadata": {
        "id": "CGNn2JKZ-7A3",
        "colab_type": "code",
        "outputId": "41354fbf-27fc-47ca-c174-7ef0ebff9039",
        "colab": {
          "base_uri": "https://localhost:8080/",
          "height": 87
        }
      },
      "source": [
        "# train set과 test set의 크기를 결정\n",
        "data_size = len(data_np)\n",
        "\n",
        "train_size = int(data_size * 0.7)\n",
        "test_size = data_size - train_size\n",
        "\n",
        "# train-test set 나누기\n",
        "x_train = data_np[:train_size, 0].reshape(-1, 1)\n",
        "y_train = data_np[:train_size, 1].reshape(-1, 1)\n",
        "\n",
        "x_test = data_np[-test_size:, 0].reshape(-1, 1)\n",
        "y_test = data_np[-test_size:, 1].reshape(-1, 1)\n",
        "\n",
        "# data_np도 더이상 필요하지 않으므로 메모리를 비워줍니다.\n",
        "del data_np\n",
        "\n",
        "print(\"shape of x_train :\", x_train.shape)\n",
        "print(\"shape of y_train :\", y_train.shape)\n",
        "print(\"shape of x_test :\", x_test.shape)\n",
        "print(\"shape of y_test :\", y_test.shape)"
      ],
      "execution_count": 37,
      "outputs": [
        {
          "output_type": "stream",
          "text": [
            "shape of x_train : (140, 1)\n",
            "shape of y_train : (140, 1)\n",
            "shape of x_test : (60, 1)\n",
            "shape of y_test : (60, 1)\n"
          ],
          "name": "stdout"
        }
      ]
    },
    {
      "cell_type": "code",
      "metadata": {
        "id": "2wowAZQcDNTr",
        "colab_type": "code",
        "outputId": "fdded3d5-d5ca-4d3d-af9e-d8b14a39f578",
        "colab": {
          "base_uri": "https://localhost:8080/",
          "height": 295
        }
      },
      "source": [
        "# data plot하기\n",
        "plt.title('Plot Original Data')\n",
        "plt.plot(x_train, y_train, 'r.', label='train data')\n",
        "plt.plot(x_test, y_test, 'b.', label='test data')\n",
        "plt.xlabel('x')\n",
        "plt.ylabel('y')\n",
        "plt.legend()\n",
        "plt.show()"
      ],
      "execution_count": 38,
      "outputs": [
        {
          "output_type": "display_data",
          "data": {
            "image/png": "[encoded data removed]",
            "text/plain": [
              "<Figure size 432x288 with 1 Axes>"
            ]
          },
          "metadata": {
            "tags": [],
            "needs_background": "light"
          }
        }
      ]
    },
    {
      "cell_type": "markdown",
      "metadata": {
        "id": "Uds8zaFHaP0d",
        "colab_type": "text"
      },
      "source": [
        "### 2. Finding optimal parameters"
      ]
    },
    {
      "cell_type": "markdown",
      "metadata": {
        "id": "zsYA_p5rHWTO",
        "colab_type": "text"
      },
      "source": [
        "#### 모델 정의\n",
        "\n",
        "1. 비정규화 회귀 – 선형 모델\n",
        "    \n",
        "    $h_\\theta^{(1)}(x)=\\theta_0+\\theta_1x_1 \\quad\\quad\\left(x_n=x^n\\right)$\n",
        "\n",
        "2. 비정규화 회귀 – 2차 다항식 모델\n",
        "    \n",
        "    $h_\\theta^{(2)}(x)=\\theta_0+\\theta_1x_1+\\theta_2x_2$\n",
        "\n",
        "3. 비정규화 회귀 – 5차 다항식 모델\n",
        "    \n",
        "    $h_\\theta^{(3)}(x)=\\theta_0+\\theta_1x_1+\\theta_2x_2+\\theta_3x_3+\\theta_4x_4+\\theta_5x_5$\n",
        "\n",
        "4. 정규화 회귀 – 5차 다항식 모델 (Ridge)\n",
        "    \n",
        "    $h_\\theta^{(4)}(x)=\\theta_0+\\theta_1x_1+\\theta_2x_2+\\theta_3x_3+\\theta_4x_4+\\theta_5x_5$\n",
        "\n",
        "\n",
        "##### 각 모델들의 x 행렬\n",
        "$\n",
        "X^{(h^{(1)})}=\n",
        "  \\begin{bmatrix}\n",
        "    1 & x_1^{(1)} \\\\\n",
        "    1 & x_1^{(2)} \\\\\n",
        "    \\vdots & \\vdots \\\\\n",
        "    1 & x_1^{(I)} \\\\\n",
        "  \\end{bmatrix}\n",
        "$ \n",
        "\n",
        "$\n",
        "X^{(h^{(2)})}=\n",
        "  \\begin{bmatrix}\n",
        "    1 & x_1^{(1)} & x_2^{(1)} \\\\\n",
        "    1 & x_1^{(2)}& x_2^{(2)} \\\\\n",
        "    \\vdots & \\vdots & \\vdots \\\\\n",
        "    1 & x_1^{(I)}& x_2^{(I)} \\\\\n",
        "  \\end{bmatrix}\n",
        "$ \n",
        "\n",
        "$\n",
        "X^{(h^{(3)})}=\n",
        "  \\begin{bmatrix}\n",
        "    1 & x_1^{(1)} & \\cdots & x_5^{(1)} \\\\\n",
        "    1 & x_1^{(2)}& \\cdots & x_5^{(2)} \\\\\n",
        "    \\vdots & \\vdots &  & \\vdots \\\\\n",
        "    1 & x_1^{(I)}& \\cdots & x_5^{(I)} \\\\\n",
        "  \\end{bmatrix}\n",
        "$ \n",
        "\n",
        "$\n",
        "X^{(h^{(4)})}=\n",
        "  \\begin{bmatrix}\n",
        "    1 & x_1^{(1)} & \\cdots & x_5^{(1)} \\\\\n",
        "    1 & x_1^{(2)}& \\cdots & x_5^{(2)} \\\\\n",
        "    \\vdots & \\vdots &  & \\vdots \\\\\n",
        "    1 & x_1^{(I)}& \\cdots & x_5^{(I)} \\\\\n",
        "  \\end{bmatrix}\n",
        "$\n"
      ]
    },
    {
      "cell_type": "code",
      "metadata": {
        "id": "gW2ZWgvLE_Xo",
        "colab_type": "code",
        "outputId": "c9fc90aa-439c-48e9-9d18-c094435e20e1",
        "colab": {
          "base_uri": "https://localhost:8080/",
          "height": 87
        }
      },
      "source": [
        "# 1. 비정규화 선형 회귀: x1_train\n",
        "x1_train=np.column_stack((np.ones_like(x_train),x_train)) \n",
        "         #배열을 세로로   #1로 초기화된 배열\n",
        "#print(x1_train[:5])\n",
        "# 2. 비정규화 2차 회귀: x2_train\n",
        "x2_train=np.column_stack((np.ones_like(x_train),x_train,pow(x_train,2))) \n",
        "#print(x2_train[:5])\n",
        "# 3. 비정규화 5차 회귀: x3_train\n",
        "x3_train=np.column_stack((np.ones_like(x_train),x_train,pow(x_train,2), pow(x_train,3), pow(x_train,4), pow(x_train,5))) \n",
        "# 4. 정규화 5차 회귀: x4_train\n",
        "x4_train=np.column_stack((np.ones_like(x_train),x_train,pow(x_train,2), pow(x_train,3), pow(x_train,4), pow(x_train,5)))\n",
        "# x1_train, x2_train, x3_train, x4_train의 shape 출력\n",
        "print('shape of x1_train',x1_train.shape)\n",
        "print('shape of x2_train',x2_train.shape)\n",
        "print('shape of x3_train',x3_train.shape)\n",
        "print('shape of x4_train',x4_train.shape)"
      ],
      "execution_count": 39,
      "outputs": [
        {
          "output_type": "stream",
          "text": [
            "shape of x1_train (140, 2)\n",
            "shape of x2_train (140, 3)\n",
            "shape of x3_train (140, 6)\n",
            "shape of x4_train (140, 6)\n"
          ],
          "name": "stdout"
        }
      ]
    },
    {
      "cell_type": "code",
      "metadata": {
        "id": "6UofK3G3NiTH",
        "colab_type": "code",
        "outputId": "8e09bf18-8b08-4249-e08a-4fcd018a7212",
        "colab": {
          "base_uri": "https://localhost:8080/",
          "height": 87
        }
      },
      "source": [
        "# 1. 비정규화 선형 회귀: x1_test\n",
        "x1_test=np.column_stack((np.ones_like(x_test),x_test))\n",
        "# 2. 비정규화 2차 회귀: x2_test\n",
        "x2_test=np.column_stack((np.ones_like(x_test),x_test,x_test**2)) #**=pow\n",
        "# 3. 비정규화 5차 회귀: x3_test\n",
        "x3_test=np.column_stack((np.ones_like(x_test),x_test,pow(x_test,2),pow(x_test,3),pow(x_test,4),pow(x_test,5)))\n",
        "# 4. 정규화 5차 회귀: x4_test\n",
        "x4_test=np.column_stack((np.ones_like(x_test),x_test,pow(x_test,2),pow(x_test,3),pow(x_test,4),pow(x_test,5)))\n",
        "# x1_test, x2_test, x3_test, x4_test의 shape 출력\n",
        "print('shape of x1_test',x1_test.shape)\n",
        "print('shape of x2_test',x2_test.shape)\n",
        "print('shape of x3_test',x3_test.shape)\n",
        "print('shape of x4_test',x4_test.shape)"
      ],
      "execution_count": 50,
      "outputs": [
        {
          "output_type": "stream",
          "text": [
            "shape of x1_test (60, 2)\n",
            "shape of x2_test (60, 3)\n",
            "shape of x3_test (60, 6)\n",
            "shape of x4_test (60, 6)\n"
          ],
          "name": "stdout"
        }
      ]
    },
    {
      "cell_type": "markdown",
      "metadata": {
        "id": "Se--zZZRHnSE",
        "colab_type": "text"
      },
      "source": [
        "#### 2) Finding parameters\n",
        "1. 비정규화 회귀 모델의 최소 제곱법에 의한 해\n",
        "    \n",
        "    $\\theta^*=\\left(x^Tx\\right)^{-1}x^Ty$\n",
        "\n",
        "2. Ridge 정규화 회귀 모델의 닫힌 형태의 해\n",
        "    \n",
        "    $\\theta^*=\\left(x^Tx+\\lambda  \n",
        "        \\begin{bmatrix}\n",
        "            0 & 0 & \\cdots & 0 \\\\\n",
        "            0 & 1 & \\cdots & 0 \\\\\n",
        "            \\vdots & \\vdots & \\ddots & \\vdots \\\\\n",
        "            0 & 0 & \\cdots & 1 \\\\\n",
        "        \\end{bmatrix}\n",
        "    \\right)^{-1}x^Ty$"
      ]
    },
    {
      "cell_type": "code",
      "metadata": {
        "id": "8s6E9j14Z2UL",
        "colab_type": "code",
        "outputId": "11823b01-19ae-4a17-ee0a-838fee31ecdd",
        "colab": {
          "base_uri": "https://localhost:8080/",
          "height": 316
        }
      },
      "source": [
        "# 1. 비정규화 선형 회귀: theta1\n",
        "theta1=np.matmul(np.linalg.inv(np.matmul(np.transpose(x1_train),x1_train)), np.matmul(np.transpose(x1_train),y_train))\n",
        "        #행렬곱  #역행렬                  #전치\n",
        "# 2. 비정규화 2차 회귀: theta2\n",
        "theta2=np.matmul(np.linalg.inv(np.matmul(np.transpose(x2_train),x2_train)), np.matmul(np.transpose(x2_train), y_train))\n",
        "# 3. 비정규화 5차 회귀: theta3\n",
        "theta3=np.matmul(np.linalg.inv(np.matmul(np.transpose(x3_train),x3_train)),np.matmul(np.transpose(x3_train),y_train))\n",
        "# 4. 정규화 5차 회귀: theta4\n",
        "Lambda = 0.2\n",
        "A=np.eye(6)  #6x6행렬 with 주대각1\n",
        "A[0, 0]=0\n",
        "#print(A)\n",
        "theta4 =np.matmul(np.linalg.inv(np.matmul(np.transpose(x4_train),x4_train)+Lambda*A),np.matmul(np.transpose(x4_train),y_train))\n",
        "# theta값 출력\n",
        "print(theta1)\n",
        "print(theta2)\n",
        "print(theta3)\n",
        "print(theta4)"
      ],
      "execution_count": 51,
      "outputs": [
        {
          "output_type": "stream",
          "text": [
            "[[34.40244056]\n",
            " [-0.07383275]]\n",
            "[[ 3.58378053e+01]\n",
            " [-4.28844543e-01]\n",
            " [ 1.84586623e-02]]\n",
            "[[ 3.63254075e+01]\n",
            " [-1.47121748e+00]\n",
            " [ 4.30737023e-01]\n",
            " [-6.09955803e-02]\n",
            " [ 3.81597897e-03]\n",
            " [-8.53428092e-05]]\n",
            "[[ 3.44727654e+01]\n",
            " [-2.23398096e-01]\n",
            " [ 1.23113476e-01]\n",
            " [-2.58473479e-02]\n",
            " [ 1.93190074e-03]\n",
            " [-4.70510666e-05]]\n"
          ],
          "name": "stdout"
        }
      ]
    },
    {
      "cell_type": "markdown",
      "metadata": {
        "id": "An9WU4lnhPAr",
        "colab_type": "text"
      },
      "source": [
        "## 3. Plot training data with fitted curve"
      ]
    },
    {
      "cell_type": "code",
      "metadata": {
        "id": "WBIZrFy6Jx9a",
        "colab_type": "code",
        "outputId": "0451cd5a-c18e-4553-c84b-65f9e4484a72",
        "colab": {
          "base_uri": "https://localhost:8080/",
          "height": 282
        }
      },
      "source": [
        "# 데이터의 순서를 shuffle했기 때문에 \n",
        "# 데이터의 순서대로 plot하면 정상적으로 그려지지 않으므로\n",
        "# 일정한 간격으로 오름차순의 구간을 만들어주는 np.linspace 사용\n",
        "x = np.linspace(min(x_train), max(x_train), 128)\n",
        "\n",
        "y1_train=theta1[0]+theta1[1]*x\n",
        "y2_train=theta2[0]+theta2[1]*x+theta2[2]*(x**2)\n",
        "y3_train=theta3[0]+theta3[1]*x+theta3[2]*(x**2)+theta3[3]*(x**3)+theta3[4]*(x**4)+theta3[5]*(x**5)\n",
        "y4_train=theta4[0]+theta4[1]*x+theta4[2]*(x**2)+theta4[3]*(x**3)+theta4[4]*(x**4)+theta4[5]*(x**5)\n",
        "# x_train의 최솟값부터 최댓값까지 128등분\n",
        "#x = np.linspace(min(x_train), max(x_train), 128)\n",
        "\n",
        "# train data와 regressor 함께 plot하기\n",
        "plt.plot(x_train, y_train,'ro')\n",
        "plt.plot(x,y1_train,'b')\n",
        "plt.plot(x,y2_train,'y')\n",
        "plt.plot(x,y3_train,'g')\n",
        "plt.plot(x,y4_train,'r')"
      ],
      "execution_count": 62,
      "outputs": [
        {
          "output_type": "execute_result",
          "data": {
            "text/plain": [
              "[<matplotlib.lines.Line2D at 0x7fd5b563b668>]"
            ]
          },
          "metadata": {
            "tags": []
          },
          "execution_count": 62
        },
        {
          "output_type": "display_data",
          "data": {
            "image/png": "[encoded data removed]",
            "text/plain": [
              "<Figure size 432x288 with 1 Axes>"
            ]
          },
          "metadata": {
            "tags": [],
            "needs_background": "light"
          }
        }
      ]
    },
    {
      "cell_type": "markdown",
      "metadata": {
        "id": "Xk6hHCh8n6jM",
        "colab_type": "text"
      },
      "source": [
        "## 4. Compute traing errors"
      ]
    },
    {
      "cell_type": "markdown",
      "metadata": {
        "id": "sYglUE_43Jjg",
        "colab_type": "text"
      },
      "source": [
        "* MSE (Mean of Squared Error)\n",
        "    - 데이터의 갯수가 다르더라도 오차값을 비교할 수 있다.\n",
        "\n",
        "$$MSE=\\dfrac{1}{I}\\sum_{i=1}^I\\left(\\hat{y}-y\\right)^2$$\n",
        "\n",
        "* SSE (Sum of Squared Error)\n",
        "    - 미분 계산 시에 수식이 깔끔하다.\n",
        "\n",
        "$$SSE=\\dfrac{1}{2}\\sum_{i=1}^I\\left(\\hat{y}-y\\right)^2$$"
      ]
    },
    {
      "cell_type": "code",
      "metadata": {
        "id": "VVWf83g3sR5F",
        "colab_type": "code",
        "colab": {}
      },
      "source": [
        "def MSE(y_hat, y):\n",
        "    result = 0.\n",
        "    # result 값을 완성해보세요!\n",
        "    for i in range (y.shape[0]):\n",
        "      result+=(y_hat[i]-y[i])**2\n",
        "    result*=(1/y.shape[0])\n",
        "    \n",
        "    return result"
      ],
      "execution_count": 0,
      "outputs": []
    },
    {
      "cell_type": "code",
      "metadata": {
        "id": "7jriAUCUOTxV",
        "colab_type": "code",
        "colab": {}
      },
      "source": [
        "def get_error(theta_n, x_n, y):\n",
        "\n",
        "    # 임의의 회귀 모델의 입력 x_n과\n",
        "    # 계산한 파라미터 theta_n으로\n",
        "    # y_hat 행렬을 구해보세요!\n",
        "    y_hat=np.matmul(x_n, theta_n)\n",
        "    return MSE(y_hat, y)"
      ],
      "execution_count": 0,
      "outputs": []
    },
    {
      "cell_type": "code",
      "metadata": {
        "id": "-1m4v9xSrhVp",
        "colab_type": "code",
        "outputId": "5c42b8d0-d96b-4dce-8ea0-24f4d5aa6cf3",
        "colab": {
          "base_uri": "https://localhost:8080/",
          "height": 87
        }
      },
      "source": [
        "# get_error() 함수로 4개의 모델의 train error 구하기\n",
        "train_error1=get_error(theta1,x1_train,y_train)\n",
        "train_error2=get_error(theta2,x2_train,y_train)\n",
        "train_error3=get_error(theta3,x3_train,y_train)\n",
        "train_error4=get_error(theta4,x4_train,y_train)\n",
        "# train error 출력하기\n",
        "print(train_error1)\n",
        "print(train_error2)\n",
        "print(train_error3)\n",
        "print(train_error4)"
      ],
      "execution_count": 61,
      "outputs": [
        {
          "output_type": "stream",
          "text": [
            "[0.15290538]\n",
            "[0.08807874]\n",
            "[0.07047698]\n",
            "[0.07093061]\n"
          ],
          "name": "stdout"
        }
      ]
    },
    {
      "cell_type": "markdown",
      "metadata": {
        "id": "Hr3nCqlUrh1K",
        "colab_type": "text"
      },
      "source": [
        "## 5. Plot test data with fitted curve"
      ]
    },
    {
      "cell_type": "code",
      "metadata": {
        "id": "1-psvuorrhHq",
        "colab_type": "code",
        "outputId": "63537130-dd4a-4774-c369-da0ebba39fc4",
        "colab": {
          "base_uri": "https://localhost:8080/",
          "height": 282
        }
      },
      "source": [
        "# x_test의 최솟값부터 최댓값까지 128등분\n",
        "x_test2 = np.linspace(min(x_train), max(x_train), 128)\n",
        "# test data와 regressor 함께 plot하기\n",
        "plt.plot(x_test,y_test,'r.')\n",
        "plt.plot(x,y1_train,'b')\n",
        "plt.plot(x,y2_train,'y')\n",
        "plt.plot(x,y3_train,'g')\n",
        "plt.plot(x,y4_train,'r')"
      ],
      "execution_count": 65,
      "outputs": [
        {
          "output_type": "execute_result",
          "data": {
            "text/plain": [
              "[<matplotlib.lines.Line2D at 0x7fd5b2b64e10>]"
            ]
          },
          "metadata": {
            "tags": []
          },
          "execution_count": 65
        },
        {
          "output_type": "display_data",
          "data": {
            "image/png": "[encoded data removed]",
            "text/plain": [
              "<Figure size 432x288 with 1 Axes>"
            ]
          },
          "metadata": {
            "tags": [],
            "needs_background": "light"
          }
        }
      ]
    },
    {
      "cell_type": "markdown",
      "metadata": {
        "id": "WFLR8e-nriUR",
        "colab_type": "text"
      },
      "source": [
        "## 6. Compute test errors"
      ]
    },
    {
      "cell_type": "code",
      "metadata": {
        "id": "_worb0enn50d",
        "colab_type": "code",
        "outputId": "5689fddd-681b-4d32-97b5-cd0a8e771d32",
        "colab": {
          "base_uri": "https://localhost:8080/",
          "height": 87
        }
      },
      "source": [
        "# get_error() 함수로 4개의 모델의 test error 구하기\n",
        "test_error1=get_error(theta1,x1_test,y_test)\n",
        "test_error2=get_error(theta2,x2_test,y_test)\n",
        "test_error3=get_error(theta3,x3_test,y_test)\n",
        "test_error4=get_error(theta4,x4_test,y_test)\n",
        "# test error 출력하기\n",
        "print(test_error1)\n",
        "print(test_error2)\n",
        "print(test_error3)\n",
        "print(test_error4)"
      ],
      "execution_count": 66,
      "outputs": [
        {
          "output_type": "stream",
          "text": [
            "[0.17717033]\n",
            "[0.07904354]\n",
            "[0.06351351]\n",
            "[0.06170309]\n"
          ],
          "name": "stdout"
        }
      ]
    }
  ]
}