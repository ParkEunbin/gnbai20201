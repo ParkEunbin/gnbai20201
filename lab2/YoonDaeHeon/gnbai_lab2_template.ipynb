{
 "nbformat": 4,
 "nbformat_minor": 0,
 "metadata": {
  "colab": {
   "name": "gnbai_lab2_template.ipynb",
   "provenance": [],
   "collapsed_sections": [],
   "include_colab_link": true
  },
  "kernelspec": {
   "name": "python3",
   "language": "python",
   "display_name": "Python 3"
  }
 },
 "cells": [
  {
   "cell_type": "markdown",
   "metadata": {
    "id": "view-in-github",
    "colab_type": "text"
   },
   "source": [
    "<a href=\"https://colab.research.google.com/github/yh08037/gnbai20201/blob/master/lab2/gnbai_lab2_template.ipynb\" target=\"_parent\"><img src=\"https://colab.research.google.com/assets/colab-badge.svg\" alt=\"Open In Colab\"/></a>"
   ]
  },
  {
   "cell_type": "markdown",
   "metadata": {
    "id": "lmJpYA7HZ_7t",
    "colab_type": "text"
   },
   "source": [
    "# GnB AI Project Assignment\n",
    "## Lab 2: Regularized Regression\n"
   ]
  },
  {
   "cell_type": "markdown",
   "metadata": {
    "id": "Yu4gHSym93uq",
    "colab_type": "text"
   },
   "source": [
    "### Tasks\n",
    "1. data_lab2.txt의 데이터를 읽고, train 데이터 70%, test 데이터 30%로 분할하여라.\n",
    "2. 다음의 가설 함수들에 대해 파라미터의 최적값을 구하여라.\n",
    "    \n",
    "    (비정규화 회귀는 최소 제곱법, 정규화 회귀는 closed-form solution 사용)\n",
    "    \n",
    "    * 비정규화 회귀 – 선형 모델\n",
    "    * 비정규화 회귀 – 2차 다항식 모델\n",
    "    * 비정규화 회귀 – 5차 다항식 모델\n",
    "    * 정규화 회귀 – 5차 다항식 모델 (Ridge)\n",
    "\n",
    "3. train 데이터 위에 학습된 회귀자들을 plot하고, train error를 구하여라.\n",
    "4. test 데이터 위에 학습된 회귀자들을 plot하고, test error를 구하여라"
   ]
  },
  {
   "cell_type": "markdown",
   "metadata": {
    "id": "6rg2Wpkg-Crw",
    "colab_type": "text"
   },
   "source": [
    "### Imports"
   ]
  },
  {
   "cell_type": "code",
   "metadata": {
    "id": "HXboxQ0X93Tr",
    "colab_type": "code",
    "colab": {}
   },
   "source": [
    "import numpy as np\n",
    "import pandas as pd\n",
    "import matplotlib.pyplot as plt"
   ],
   "execution_count": 50,
   "outputs": []
  },
  {
   "cell_type": "markdown",
   "metadata": {
    "id": "NdLwXc2E94RG",
    "colab_type": "text"
   },
   "source": [
    "### 1. Train-test split"
   ]
  },
  {
   "cell_type": "code",
   "metadata": {
    "id": "CjjYC13fZ_FQ",
    "colab_type": "code",
    "outputId": "975513bb-c578-432e-e25e-41ccfc3bb2d4",
    "colab": {
     "base_uri": "https://localhost:8080/",
     "height": 269
    }
   },
   "source": [
    "# pandas를 통해 txt 파일 읽어오기\n",
    "name_file = './data_lab2.txt'\n",
    "columns = ['x', 'y']\n",
    "\n",
    "data_pd = pd.read_csv(name_file, names=columns, sep='\\t')\n",
    "\n",
    "print(data_pd)"
   ],
   "execution_count": 51,
   "outputs": [
    {
     "name": "stdout",
     "output_type": "stream",
     "text": [
      "         x       y\n",
      "0     2.94  34.340\n",
      "1     3.06  34.520\n",
      "2     3.07  34.318\n",
      "3     3.16  34.360\n",
      "4     3.26  34.490\n",
      "..     ...     ...\n",
      "195  16.10  33.770\n",
      "196  16.14  33.808\n",
      "197  16.52  33.851\n",
      "198  16.82  33.953\n",
      "199  17.10  33.950\n",
      "\n",
      "[200 rows x 2 columns]\n"
     ]
    }
   ]
  },
  {
   "cell_type": "code",
   "metadata": {
    "id": "AKMnMDLL_qzu",
    "colab_type": "code",
    "outputId": "5cd955d3-8349-46a1-b5bc-4a18430dea17",
    "colab": {
     "base_uri": "https://localhost:8080/",
     "height": 215
    }
   },
   "source": [
    "# pandas dataframe을 numpy array로 변환\n",
    "data_np = data_pd.values\n",
    "\n",
    "# data_pd는 더이상 필요하지 않으므로 메모리를 비워줍니다.\n",
    "del data_pd\n",
    "\n",
    "# 데이터의 순서를 랜덤으로 섞기\n",
    "np.random.shuffle(data_np)\n",
    "\n",
    "# 처음과 끝의 5개의 데이터를 출력\n",
    "print(data_np[:5])\n",
    "print('...')\n",
    "print(data_np[-5:])"
   ],
   "execution_count": 52,
   "outputs": [
    {
     "name": "stdout",
     "output_type": "stream",
     "text": [
      "[[ 3.56  34.24 ]\n",
      " [13.22  33.478]\n",
      " [15.86  33.62 ]\n",
      " [14.95  33.654]\n",
      " [11.13  33.53 ]]\n",
      "...\n",
      "[[11.04  33.87 ]\n",
      " [ 9.23  33.033]\n",
      " [ 7.49  33.828]\n",
      " [ 9.95  33.549]\n",
      " [ 5.79  33.955]]\n"
     ]
    }
   ]
  },
  {
   "cell_type": "code",
   "metadata": {
    "id": "CGNn2JKZ-7A3",
    "colab_type": "code",
    "outputId": "5851dbee-3cd2-4506-fb48-05f80b7fd05a",
    "colab": {
     "base_uri": "https://localhost:8080/",
     "height": 89
    }
   },
   "source": [
    "# train set과 test set의 크기를 결정\n",
    "data_size = len(data_np)\n",
    "\n",
    "train_size = int(data_size * 0.7)\n",
    "test_size = data_size - train_size\n",
    "\n",
    "# train-test set 나누기\n",
    "x_train = data_np[:train_size, 0].reshape(-1, 1)\n",
    "y_train = data_np[:train_size, 1].reshape(-1, 1)\n",
    "\n",
    "x_test = data_np[-test_size:, 0].reshape(-1, 1)\n",
    "y_test = data_np[-test_size:, 1].reshape(-1, 1)\n",
    "\n",
    "# data_np도 더이상 필요하지 않으므로 메모리를 비워줍니다.\n",
    "del data_np\n",
    "\n",
    "print(\"shape of x_train :\", x_train.shape)\n",
    "print(\"shape of y_train :\", y_train.shape)\n",
    "print(\"shape of x_test :\", x_test.shape)\n",
    "print(\"shape of y_test :\", y_test.shape)"
   ],
   "execution_count": 53,
   "outputs": [
    {
     "name": "stdout",
     "output_type": "stream",
     "text": [
      "shape of x_train : (140, 1)\n",
      "shape of y_train : (140, 1)\n",
      "shape of x_test : (60, 1)\n",
      "shape of y_test : (60, 1)\n"
     ]
    }
   ]
  },
  {
   "cell_type": "code",
   "metadata": {
    "id": "2wowAZQcDNTr",
    "colab_type": "code",
    "outputId": "c60f172c-e61d-43eb-b347-ab81b7b40140",
    "colab": {
     "base_uri": "https://localhost:8080/",
     "height": 295
    }
   },
   "source": [
    "# data plot하기\n",
    "plt.title('Plot Original Data')\n",
    "plt.plot(x_train, y_train, 'r.', label='train data')\n",
    "plt.plot(x_test, y_test, 'b.', label='test data')\n",
    "plt.xlabel('x')\n",
    "plt.ylabel('y')\n",
    "plt.legend()\n",
    "plt.show()"
   ],
   "execution_count": 54,
   "outputs": [
    {
     "data": {
      "text/plain": "<Figure size 432x288 with 1 Axes>",
      "image/png": "[encoded data removed]"
     },
     "metadata": {
      "needs_background": "light"
     },
     "output_type": "display_data"
    }
   ]
  },
  {
   "cell_type": "markdown",
   "metadata": {
    "id": "Uds8zaFHaP0d",
    "colab_type": "text"
   },
   "source": [
    "### 2. Finding optimal parameters"
   ]
  },
  {
   "cell_type": "markdown",
   "metadata": {
    "id": "zsYA_p5rHWTO",
    "colab_type": "text"
   },
   "source": [
    "#### 모델 정의\n",
    "\n",
    "1. 비정규화 회귀 – 선형 모델\n",
    "    \n",
    "    $h_\\theta^{(1)}(x)=\\theta_0+\\theta_1x_1 \\quad\\quad\\left(x_n=x^n\\right)$\n",
    "\n",
    "2. 비정규화 회귀 – 2차 다항식 모델\n",
    "    \n",
    "    $h_\\theta^{(2)}(x)=\\theta_0+\\theta_1x_1+\\theta_2x_2$\n",
    "\n",
    "3. 비정규화 회귀 – 5차 다항식 모델\n",
    "    \n",
    "    $h_\\theta^{(3)}(x)=\\theta_0+\\theta_1x_1+\\theta_2x_2+\\theta_3x_3+\\theta_4x_4+\\theta_5x_5$\n",
    "\n",
    "4. 정규화 회귀 – 5차 다항식 모델 (Ridge)\n",
    "    \n",
    "    $h_\\theta^{(4)}(x)=\\theta_0+\\theta_1x_1+\\theta_2x_2+\\theta_3x_3+\\theta_4x_4+\\theta_5x_5$\n",
    "\n",
    "\n",
    "##### 각 모델들의 x 행렬\n",
    "$\n",
    "X^{(h^{(1)})}=\n",
    "  \\begin{bmatrix}\n",
    "    1 & x_1^{(1)} \\\\\n",
    "    1 & x_1^{(2)} \\\\\n",
    "    \\vdots & \\vdots \\\\\n",
    "    1 & x_1^{(I)} \\\\\n",
    "  \\end{bmatrix}\n",
    "$ \n",
    "\n",
    "$\n",
    "X^{(h^{(2)})}=\n",
    "  \\begin{bmatrix}\n",
    "    1 & x_1^{(1)} & x_2^{(1)} \\\\\n",
    "    1 & x_1^{(2)}& x_2^{(2)} \\\\\n",
    "    \\vdots & \\vdots & \\vdots \\\\\n",
    "    1 & x_1^{(I)}& x_2^{(I)} \\\\\n",
    "  \\end{bmatrix}\n",
    "$ \n",
    "\n",
    "$\n",
    "X^{(h^{(3)})}=\n",
    "  \\begin{bmatrix}\n",
    "    1 & x_1^{(1)} & \\cdots & x_5^{(1)} \\\\\n",
    "    1 & x_1^{(2)}& \\cdots & x_5^{(2)} \\\\\n",
    "    \\vdots & \\vdots &  & \\vdots \\\\\n",
    "    1 & x_1^{(I)}& \\cdots & x_5^{(I)} \\\\\n",
    "  \\end{bmatrix}\n",
    "$ \n",
    "\n",
    "$\n",
    "X^{(h^{(4)})}=\n",
    "  \\begin{bmatrix}\n",
    "    1 & x_1^{(1)} & \\cdots & x_5^{(1)} \\\\\n",
    "    1 & x_1^{(2)}& \\cdots & x_5^{(2)} \\\\\n",
    "    \\vdots & \\vdots &  & \\vdots \\\\\n",
    "    1 & x_1^{(I)}& \\cdots & x_5^{(I)} \\\\\n",
    "  \\end{bmatrix}\n",
    "$\n"
   ]
  },
  {
   "cell_type": "code",
   "metadata": {
    "id": "gW2ZWgvLE_Xo",
    "colab_type": "code",
    "outputId": "b20bfa89-d89d-4090-cc17-f9c0d736074c",
    "colab": {
     "base_uri": "https://localhost:8080/",
     "height": 89
    }
   },
   "source": [
    "# 1. 비정규화 선형 회귀: x1_train\n",
    "x1_train = np.column_stack((np.ones_like(x_train),x_train))\n",
    "\n",
    "# 2. 비정규화 2차 회귀: x2_train\n",
    "x2_train = np.column_stack((x1_train, x_train**2))\n",
    "\n",
    "# 3. 비정규화 5차 회귀: x3_train\n",
    "x3_train = np.column_stack((x2_train, x_train**3, x_train**4, x_train**5))\n",
    "\n",
    "# 4. 정규화 5차 회귀: x4_train\n",
    "x4_train = x3_train\n",
    "\n",
    "# x1_train, x2_train, x3_train, x4_train의 shape 출력\n",
    "print(np.shape(x1_train))\n",
    "print(np.shape(x2_train))\n",
    "print(np.shape(x3_train))\n",
    "print(np.shape(x4_train))"
   ],
   "execution_count": 55,
   "outputs": [
    {
     "name": "stdout",
     "output_type": "stream",
     "text": [
      "(140, 2)\n",
      "(140, 3)\n",
      "(140, 6)\n",
      "(140, 6)\n"
     ]
    }
   ]
  },
  {
   "cell_type": "code",
   "metadata": {
    "id": "6UofK3G3NiTH",
    "colab_type": "code",
    "outputId": "7019868c-67ff-461b-aadb-9b0d264468d7",
    "colab": {
     "base_uri": "https://localhost:8080/",
     "height": 89
    }
   },
   "source": [
    "# 1. 비정규화 선형 회귀: x1_test\n",
    "x1_test = np.column_stack((np.ones_like(x_test),x_test))\n",
    "\n",
    "# 2. 비정규화 2차 회귀: x2_test\n",
    "x2_test = np.column_stack((x1_test, x_test**2))\n",
    "\n",
    "# 3. 비정규화 5차 회귀: x3_test\n",
    "x3_test = np.column_stack((x2_test, x_test**3, x_test**4, x_test**5))\n",
    "\n",
    "# 4. 정규화 5차 회귀: x4_test\n",
    "x4_test = x3_test\n",
    "\n",
    "# x1_test, x2_test, x3_test, x4_test의 shape 출력\n",
    "print(np.shape(x1_test))\n",
    "print(np.shape(x2_test))\n",
    "print(np.shape(x3_test))\n",
    "print(np.shape(x4_test))"
   ],
   "execution_count": 56,
   "outputs": [
    {
     "name": "stdout",
     "output_type": "stream",
     "text": [
      "(60, 2)\n",
      "(60, 3)\n",
      "(60, 6)\n",
      "(60, 6)\n"
     ]
    }
   ]
  },
  {
   "cell_type": "markdown",
   "metadata": {
    "id": "Se--zZZRHnSE",
    "colab_type": "text"
   },
   "source": [
    "#### 2) Finding parameters\n",
    "1. 비정규화 회귀 모델의 최소 제곱법에 의한 해\n",
    "    \n",
    "    $\\theta^*=\\left(x^Tx\\right)^{-1}x^Ty$\n",
    "\n",
    "2. Ridge 정규화 회귀 모델의 닫힌 형태의 해\n",
    "    \n",
    "    $\\theta^*=\\left(x^Tx+\\lambda\n",
    "   \\begin{bmatrix}\n",
    "      0 & 0 & \\cdots & 0 \\\\\n",
    "      0 & 1 & \\cdots & 0 \\\\\n",
    "      \\vdots & \\vdots & \\ddots & \\vdots \\\\\n",
    "      0 & 0 & \\cdots & 1 \\\\\n",
    "   \\end{bmatrix}\n",
    "    \\right)^{-1}x^Ty$"
   ]
  },
  {
   "cell_type": "code",
   "metadata": {
    "id": "8s6E9j14Z2UL",
    "colab_type": "code",
    "outputId": "664bc73b-c132-4a57-ddc8-7ca7f44dac9b",
    "colab": {
     "base_uri": "https://localhost:8080/",
     "height": 449
    }
   },
   "source": [
    "def cal(x, y):\n",
    "    value = np.matmul(np.transpose(x), x)\n",
    "    value = np.linalg.inv(value)\n",
    "    value = np.matmul(value, np.transpose(x))\n",
    "    value = np.matmul(value, y)\n",
    "    return value\n",
    "\n",
    "# 1. 비정규화 선형 회귀: theta1\n",
    "theta1 = cal(x1_train, y_train)\n",
    "\n",
    "# 2. 비정규화 2차 회귀: theta2\n",
    "theta2 = cal(x2_train, y_train)\n",
    "\n",
    "# 3. 비정규화 5차 회귀: theta3\n",
    "theta3 = cal(x3_train, y_train)\n",
    "\n",
    "# 4. 정규화 5차 회귀: theta4\n",
    "\n",
    "Lambda = 0.2\n",
    "one = np.matmul(np.transpose(x4_train), x4_train)\n",
    "two = np.eye(np.shape(x4_train)[1])\n",
    "two[0][0] = 0\n",
    "two = Lambda * two\n",
    "theta4 = np.matmul(np.matmul(np.linalg.inv((one + two)), np.transpose(x4_train)), y_train);\n",
    "\n",
    "# theta값 출력\n",
    "print(theta1)\n",
    "print(theta2)\n",
    "print(theta3)\n",
    "print(theta4)\n"
   ],
   "execution_count": 57,
   "outputs": [
    {
     "name": "stdout",
     "output_type": "stream",
     "text": [
      "[[34.41768037]\n",
      " [-0.07672515]]\n",
      "[[ 3.59368128e+01]\n",
      " [-4.59951476e-01]\n",
      " [ 2.01026449e-02]]\n",
      "[[ 3.67683715e+01]\n",
      " [-1.79763142e+00]\n",
      " [ 5.26581083e-01]\n",
      " [-7.43097785e-02]\n",
      " [ 4.65912533e-03]\n",
      " [-1.04874716e-04]]\n",
      "[[ 3.44683587e+01]\n",
      " [-2.51135313e-01]\n",
      " [ 1.46063804e-01]\n",
      " [-3.09282989e-02]\n",
      " [ 2.33914956e-03]\n",
      " [-5.78324836e-05]]\n"
     ]
    }
   ]
  },
  {
   "cell_type": "markdown",
   "metadata": {
    "id": "An9WU4lnhPAr",
    "colab_type": "text"
   },
   "source": [
    "## 3. Plot training data with fitted curve"
   ]
  },
  {
   "cell_type": "code",
   "metadata": {
    "id": "WBIZrFy6Jx9a",
    "colab_type": "code",
    "outputId": "c58a1a70-98c6-4d47-fd11-e8d4b313c677",
    "colab": {
     "base_uri": "https://localhost:8080/",
     "height": 279
    }
   },
   "source": [
    "# 데이터의 순서를 shuffle했기 때문에 \n",
    "# 데이터의 순서대로 plot하면 정상적으로 그려지지 않으므로\n",
    "# 일정한 간격으로 오름차순의 구간을 만들어주는 np.linspace 사용\n",
    "# 참고 하여 만듬\n",
    "\n",
    "# x_train의 최솟값부터 최댓값까지 128등분\n",
    "x = np.linspace(min(x_train), max(x_train), 128)\n",
    "\n",
    "y1_train=theta1[0]+theta1[1]*x\n",
    "y2_train=theta2[0]+theta2[1]*x+theta2[2]*(x**2)\n",
    "y3_train=theta3[0]+theta3[1]*x+theta3[2]*(x**2)+theta3[3]*(x**3)+theta3[4]*(x**4)+theta3[5]*(x**5)\n",
    "y4_train=theta4[0]+theta4[1]*x+theta4[2]*(x**2)+theta4[3]*(x**3)+theta4[4]*(x**4)+theta4[5]*(x**5)\n",
    "\n",
    "# train data와 regressor 함께 plot하기\n",
    "\n",
    "plt.plot(x_train, y_train,'ro')\n",
    "plt.plot(x,y1_train,'r')\n",
    "plt.plot(x,y2_train,'g')\n",
    "plt.plot(x,y3_train,'b')\n",
    "plt.plot(x,y4_train,'c')\n"
   ],
   "execution_count": 58,
   "outputs": [
    {
     "data": {
      "text/plain": "[<matplotlib.lines.Line2D at 0x12dd1e46bc8>]"
     },
     "execution_count": 58,
     "metadata": {},
     "output_type": "execute_result"
    },
    {
     "data": {
      "text/plain": "<Figure size 432x288 with 1 Axes>",
      "image/png": "[encoded data removed]"
     },
     "metadata": {
      "needs_background": "light"
     },
     "output_type": "display_data"
    }
   ]
  },
  {
   "cell_type": "markdown",
   "metadata": {
    "id": "Xk6hHCh8n6jM",
    "colab_type": "text"
   },
   "source": [
    "## 4. Compute traing errors"
   ]
  },
  {
   "cell_type": "markdown",
   "metadata": {
    "id": "sYglUE_43Jjg",
    "colab_type": "text"
   },
   "source": [
    "* MSE (Mean of Squared Error)\n",
    "    - 데이터의 갯수가 다르더라도 오차값을 비교할 수 있다.\n",
    "\n",
    "$$MSE=\\dfrac{1}{I}\\sum_{i=1}^I\\left(\\hat{y}-y\\right)^2$$\n",
    "\n",
    "* SSE (Sum of Squared Error)\n",
    "    - 미분 계산 시에 수식이 깔끔하다.\n",
    "\n",
    "$$SSE=\\dfrac{1}{2}\\sum_{i=1}^I\\left(\\hat{y}-y\\right)^2$$"
   ]
  },
  {
   "cell_type": "code",
   "metadata": {
    "id": "VVWf83g3sR5F",
    "colab_type": "code",
    "colab": {}
   },
   "source": [
    "def MSE(y_hat, y):\n",
    "    result = 0.\n",
    "    # result 값을 완성해보세요!\n",
    "    for i in range(y.shape[0]):\n",
    "      result += pow((y_hat[i]-y[i]),2)\n",
    "\n",
    "    result = (1/y.shape[0])*result\n",
    "    return result"
   ],
   "execution_count": 59,
   "outputs": []
  },
  {
   "cell_type": "code",
   "metadata": {
    "id": "7jriAUCUOTxV",
    "colab_type": "code",
    "colab": {}
   },
   "source": [
    "def get_error(theta_n, x_n, y):\n",
    "\n",
    "    # 임의의 회귀 모델의 입력 x_n과\n",
    "    # 계산한 파라미터 theta_n으로\n",
    "    # y_hat 행렬을 구해보세요!\n",
    "\n",
    "    y_hat = np.matmul(x_n, theta_n);\n",
    "    return MSE(y_hat, y)"
   ],
   "execution_count": 60,
   "outputs": []
  },
  {
   "cell_type": "code",
   "metadata": {
    "id": "-1m4v9xSrhVp",
    "colab_type": "code",
    "outputId": "f84e434c-3809-4fe3-ab26-c6ff7082320a",
    "colab": {
     "base_uri": "https://localhost:8080/",
     "height": 89
    }
   },
   "source": [
    "# get_error() 함수로 4개의 모델의 train error 구하기\n",
    "train_error1=get_error(theta1,x1_train,y_train)\n",
    "train_error2=get_error(theta2,x2_train,y_train)\n",
    "train_error3=get_error(theta3,x3_train,y_train)\n",
    "train_error4=get_error(theta4,x4_train,y_train)\n",
    "\n",
    "# train error 출력하기\n",
    "print(train_error1)\n",
    "print(train_error2)\n",
    "print(train_error3)\n",
    "print(train_error4)"
   ],
   "execution_count": 61,
   "outputs": [
    {
     "name": "stdout",
     "output_type": "stream",
     "text": [
      "[0.15645517]\n",
      "[0.07781579]\n",
      "[0.05683151]\n",
      "[0.05746766]\n"
     ]
    }
   ]
  },
  {
   "cell_type": "markdown",
   "metadata": {
    "id": "Hr3nCqlUrh1K",
    "colab_type": "text"
   },
   "source": [
    "## 5. Plot test data with fitted curve"
   ]
  },
  {
   "cell_type": "code",
   "metadata": {
    "id": "1-psvuorrhHq",
    "colab_type": "code",
    "outputId": "068b908f-ad42-4a31-a61b-73e0ae4dc2a2",
    "colab": {
     "base_uri": "https://localhost:8080/",
     "height": 279
    }
   },
   "source": [
    "# x_test의 최솟값부터 최댓값까지 128등분\n",
    "x_128 = np.linspace(min(x_train), max(x_train), 128)\n",
    "\n",
    "# test data와 regressor 함께 plot하기\n",
    "plt.plot(x_test,y_test,'ro')\n",
    "plt.plot(x,y1_train,'r')\n",
    "plt.plot(x,y2_train,'g')\n",
    "plt.plot(x,y3_train,'b')\n",
    "plt.plot(x,y4_train,'c')"
   ],
   "execution_count": 62,
   "outputs": [
    {
     "data": {
      "text/plain": "[<matplotlib.lines.Line2D at 0x12dcedbc448>]"
     },
     "execution_count": 62,
     "metadata": {},
     "output_type": "execute_result"
    },
    {
     "data": {
      "text/plain": "<Figure size 432x288 with 1 Axes>",
      "image/png": "[encoded data removed]"
     },
     "metadata": {
      "needs_background": "light"
     },
     "output_type": "display_data"
    }
   ]
  },
  {
   "cell_type": "markdown",
   "metadata": {
    "id": "WFLR8e-nriUR",
    "colab_type": "text"
   },
   "source": [
    "## 6. Compute test errors"
   ]
  },
  {
   "cell_type": "code",
   "metadata": {
    "id": "_worb0enn50d",
    "colab_type": "code",
    "outputId": "f7cf00af-6418-4cd6-b4df-7fbf3d1e64d4",
    "colab": {
     "base_uri": "https://localhost:8080/",
     "height": 89
    }
   },
   "source": [
    "# get_error() 함수로 4개의 모델의 test error 구하기\n",
    "\n",
    "test_error1 = get_error(theta1,x1_test,y_test)\n",
    "test_error2 = get_error(theta2,x2_test,y_test)\n",
    "test_error3 = get_error(theta3,x3_test,y_test)\n",
    "test_error4 = get_error(theta4,x4_test,y_test)\n",
    "\n",
    "# test error 출력하기\n",
    "print(test_error1)\n",
    "print(test_error2)\n",
    "print(test_error3)\n",
    "print(test_error4)"
   ],
   "execution_count": 63,
   "outputs": [
    {
     "name": "stdout",
     "output_type": "stream",
     "text": [
      "[0.16967822]\n",
      "[0.10410112]\n",
      "[0.09950529]\n",
      "[0.0954887]\n"
     ]
    }
   ]
  },
  {
   "cell_type": "code",
   "execution_count": 63,
   "outputs": [],
   "source": [],
   "metadata": {
    "collapsed": false,
    "pycharm": {
     "name": "#%%\n"
    }
   }
  },
  {
   "cell_type": "code",
   "execution_count": 63,
   "outputs": [],
   "source": [],
   "metadata": {
    "collapsed": false,
    "pycharm": {
     "name": "#%%\n"
    }
   }
  },
  {
   "cell_type": "code",
   "execution_count": null,
   "outputs": [],
   "source": [
    "\n"
   ],
   "metadata": {
    "collapsed": false,
    "pycharm": {
     "name": "#%%\n"
    }
   }
  }
 ]
}