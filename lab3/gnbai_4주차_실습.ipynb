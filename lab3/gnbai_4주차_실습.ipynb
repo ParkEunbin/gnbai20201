{
  "nbformat": 4,
  "nbformat_minor": 0,
  "metadata": {
    "colab": {
      "name": "gnbai_4주차 실습.ipynb",
      "provenance": [],
      "collapsed_sections": [],
      "authorship_tag": "ABX9TyOdGKIpMa3TlK4zrG3ZZMJP",
      "include_colab_link": true
    },
    "kernelspec": {
      "name": "python3",
      "display_name": "Python 3"
    }
  },
  "cells": [
    {
      "cell_type": "markdown",
      "metadata": {
        "id": "view-in-github",
        "colab_type": "text"
      },
      "source": [
        "<a href=\"https://colab.research.google.com/github/ParkEunbin/gnbai20201/blob/master/lab3/gnbai_4%EC%A3%BC%EC%B0%A8_%EC%8B%A4%EC%8A%B5.ipynb\" target=\"_parent\"><img src=\"https://colab.research.google.com/assets/colab-badge.svg\" alt=\"Open In Colab\"/></a>"
      ]
    },
    {
      "cell_type": "markdown",
      "metadata": {
        "id": "8dxrIrmu9FsW",
        "colab_type": "text"
      },
      "source": [
        "1.import\n"
      ]
    },
    {
      "cell_type": "code",
      "metadata": {
        "id": "5XjWzzrB2Kp_",
        "colab_type": "code",
        "colab": {}
      },
      "source": [
        "import numpy as np\n",
        "import pandas as pd\n",
        "import matplotlib.pyplot as plt"
      ],
      "execution_count": 0,
      "outputs": []
    },
    {
      "cell_type": "markdown",
      "metadata": {
        "id": "Jc4mrPVQ9i2u",
        "colab_type": "text"
      },
      "source": [
        "2. Load data\n"
      ]
    },
    {
      "cell_type": "code",
      "metadata": {
        "id": "qQW3J8dd9fUq",
        "colab_type": "code",
        "colab": {}
      },
      "source": [
        "columns=['x1','x2','y']\n",
        "data=pd.read_csv(\"/content/data_lab3.txt\", names=columns, sep=' ')\n"
      ],
      "execution_count": 0,
      "outputs": []
    },
    {
      "cell_type": "code",
      "metadata": {
        "id": "bDzqF02u9-vD",
        "colab_type": "code",
        "colab": {}
      },
      "source": [
        "#data"
      ],
      "execution_count": 0,
      "outputs": []
    },
    {
      "cell_type": "markdown",
      "metadata": {
        "id": "zuKMoF2n-fWE",
        "colab_type": "text"
      },
      "source": [
        "3."
      ]
    },
    {
      "cell_type": "code",
      "metadata": {
        "id": "Ejy1NhJH-baO",
        "colab_type": "code",
        "colab": {}
      },
      "source": [
        "#넘파이 행렬로 바꺼줌\n",
        "data_np=np.asarray(data)\n",
        "\n",
        "#shuffle data\n",
        "np.random.shuffle(data_np)\n",
        "#define x\n",
        "x=data_np[:, :2]\n",
        "#define y\n",
        "labels=data_np[:, 2].astype(np.int)\n",
        "y=np.identity(2)[labels]"
      ],
      "execution_count": 0,
      "outputs": []
    },
    {
      "cell_type": "code",
      "metadata": {
        "id": "srfPAgAEAnln",
        "colab_type": "code",
        "colab": {}
      },
      "source": [
        "#define I,N,J,K\n",
        "\n",
        "I,N = x.shape #unpacking #입력층 노드2개\n",
        "J = y.shape[1] #출력층 2개\n",
        "K = 5 #자유롭게 지정가능  #히든층 5개"
      ],
      "execution_count": 0,
      "outputs": []
    },
    {
      "cell_type": "code",
      "metadata": {
        "id": "-1HCQzYtBOYv",
        "colab_type": "code",
        "colab": {}
      },
      "source": [
        "#x-bar\n",
        "x_bar = np.hstack((np.ones((I,1)),x)) \n",
        "\n",
        "#파라미터 초기화\n",
        "v=np.random.rand(N+1,K)\n",
        "w=np.random.rand(K+1,J)\n"
      ],
      "execution_count": 0,
      "outputs": []
    },
    {
      "cell_type": "markdown",
      "metadata": {
        "id": "C2fRFgl-C00n",
        "colab_type": "text"
      },
      "source": [
        "4.Train"
      ]
    },
    {
      "cell_type": "code",
      "metadata": {
        "id": "nXKrids1Czol",
        "colab_type": "code",
        "colab": {}
      },
      "source": [
        "alpha1=0.01\n",
        "alpha2=0.01\n",
        "\n",
        "max_epoch=3000"
      ],
      "execution_count": 0,
      "outputs": []
    },
    {
      "cell_type": "code",
      "metadata": {
        "id": "82lxBn1ODyHu",
        "colab_type": "code",
        "colab": {}
      },
      "source": [
        "def sigmoid(z):\n",
        "  return 1./(np.ones_like(z)+np.exp(-z))"
      ],
      "execution_count": 0,
      "outputs": []
    },
    {
      "cell_type": "code",
      "metadata": {
        "id": "0gIuF0GcHyZm",
        "colab_type": "code",
        "colab": {}
      },
      "source": [
        "def SSE(g,y):\n",
        "  result=0;\n",
        "  for i in range(g.shape[0]):\n",
        "    for j in range(g.shape[1]):\n",
        "      result+= (g[i,j]-y[i,j])**2\n",
        "\n",
        "  return result/2 \n",
        "\n"
      ],
      "execution_count": 0,
      "outputs": []
    },
    {
      "cell_type": "code",
      "metadata": {
        "id": "s074MQBBDSCG",
        "colab_type": "code",
        "colab": {
          "base_uri": "https://localhost:8080/",
          "height": 545
        },
        "outputId": "f128eabb-abe4-43dc-df9f-110cb4453475"
      },
      "source": [
        "for epoch in range(max_epoch): \n",
        "#순전파\n",
        "  x_bar_bar = np.dot(x_bar, v)\n",
        "  F= sigmoid(x_bar_bar)\n",
        "  F_bar= np.hstack((np.ones((I,1)), F))\n",
        "  F_bar_bar= np.dot(F_bar, w)\n",
        "  G = sigmoid(F_bar_bar)\n",
        "\n",
        "#역전파\n",
        "\n",
        "#출력층 단계\n",
        "  for k in range(0,K+1):\n",
        "    for j in range(0,J):\n",
        "      for i in range(0,I):\n",
        "        w[k,j]-= alpha1*(G[i,j]-y[i,j])*G[i,j]*(1-G[i,j])*F_bar[i,k]\n",
        "\n",
        "#은닉 층 단계\n",
        "  for n in range(0,N+1):\n",
        "    for k in range(0,K):\n",
        "      for i in range(0,I):\n",
        "        for j in range(0,J):\n",
        "          v[n,k]-= alpha2*(G[i,j]-y[i,j])*G[i,j]*(1-G[i,j])*w[k,j]*F[i,k]*(1-F[i,k])*x_bar[i,n]\n",
        "\n",
        "  error =SSE(G,y)\n",
        "\n",
        "  if epoch%100 ==0:\n",
        "    print(\"epoch:%d, error:%.2f\" %(epoch,error))"
      ],
      "execution_count": 88,
      "outputs": [
        {
          "output_type": "stream",
          "text": [
            "epoch:0, error:20.70\n",
            "epoch:100, error:12.42\n",
            "epoch:200, error:12.35\n",
            "epoch:300, error:12.27\n",
            "epoch:400, error:12.18\n",
            "epoch:500, error:12.07\n",
            "epoch:600, error:11.94\n",
            "epoch:700, error:11.75\n",
            "epoch:800, error:11.50\n",
            "epoch:900, error:11.14\n",
            "epoch:1000, error:10.63\n",
            "epoch:1100, error:9.91\n",
            "epoch:1200, error:8.97\n",
            "epoch:1300, error:7.89\n",
            "epoch:1400, error:6.79\n",
            "epoch:1500, error:5.82\n",
            "epoch:1600, error:5.03\n",
            "epoch:1700, error:4.39\n",
            "epoch:1800, error:3.90\n",
            "epoch:1900, error:3.51\n",
            "epoch:2000, error:3.19\n",
            "epoch:2100, error:2.94\n",
            "epoch:2200, error:2.74\n",
            "epoch:2300, error:2.57\n",
            "epoch:2400, error:2.43\n",
            "epoch:2500, error:2.32\n",
            "epoch:2600, error:2.23\n",
            "epoch:2700, error:2.15\n",
            "epoch:2800, error:2.08\n",
            "epoch:2900, error:2.02\n"
          ],
          "name": "stdout"
        }
      ]
    },
    {
      "cell_type": "code",
      "metadata": {
        "id": "tKersqcTKExh",
        "colab_type": "code",
        "colab": {}
      },
      "source": [
        "def h(x,v,w):\n",
        "  _x_bar = np.hstack((np.ones((I,1)),x)) \n",
        "  _x_bar_bar = np.dot(_x_bar, v)\n",
        "  _F= sigmoid(_x_bar_bar)\n",
        "  \n",
        "  _F_bar= np.hstack((np.ones((I,1)), _F))\n",
        "  _F_bar_bar= np.dot(_F_bar, w)\n",
        "  _G = sigmoid(_F_bar_bar)\n",
        "\n",
        "  return _G"
      ],
      "execution_count": 0,
      "outputs": []
    },
    {
      "cell_type": "code",
      "metadata": {
        "id": "jEye9-FyKiiH",
        "colab_type": "code",
        "colab": {}
      },
      "source": [
        "g=h(x,v,w)\n",
        "#둘중 큰게 정답"
      ],
      "execution_count": 0,
      "outputs": []
    },
    {
      "cell_type": "code",
      "metadata": {
        "id": "LXJjmLJ_LFGV",
        "colab_type": "code",
        "colab": {}
      },
      "source": [
        "labels=np.argmax(g, axis=1)"
      ],
      "execution_count": 0,
      "outputs": []
    },
    {
      "cell_type": "markdown",
      "metadata": {
        "id": "K1WZ4pJOLnvk",
        "colab_type": "text"
      },
      "source": [
        "6.plot"
      ]
    },
    {
      "cell_type": "code",
      "metadata": {
        "id": "jobuRq8QLnGz",
        "colab_type": "code",
        "colab": {
          "base_uri": "https://localhost:8080/",
          "height": 281
        },
        "outputId": "fa028f6c-98e3-4205-de6a-cb4112e22448"
      },
      "source": [
        "#0 파란점, 1:빨간점\n",
        "\n",
        "x_0=x[labels==0] #x가 0인 것만\n",
        "x_1=x[labels==1]\n",
        "\n",
        "plt.plot(x_0[:,0],x_0[:,1],'b.',label='0')\n",
        "plt.plot(x_1[:,0],x_1[:,1],'r.',label='1')\n",
        "plt.title('Plot data')\n",
        "plt.legend()\n",
        "plt.show()"
      ],
      "execution_count": 92,
      "outputs": [
        {
          "output_type": "display_data",
          "data": {
            "image/png": "[encoded data removed]",
            "text/plain": [
              "<Figure size 432x288 with 1 Axes>"
            ]
          },
          "metadata": {
            "tags": [],
            "needs_background": "light"
          }
        }
      ]
    },
    {
      "cell_type": "code",
      "metadata": {
        "id": "JyS-XoVuMcpN",
        "colab_type": "code",
        "colab": {
          "base_uri": "https://localhost:8080/",
          "height": 281
        },
        "outputId": "52de7b48-8919-417a-f075-0722b1dbe589"
      },
      "source": [
        "labels_orignal=np.argmax(y,axis=1)\n",
        "x_0_orignal = x[labels_orignal==0]\n",
        "x_1_orignal = x[labels_orignal==1]\n",
        "\n",
        "plt.plot(x_0_orignal[:,0],x_0_orignal[:,1],'b.',label='0')\n",
        "plt.plot(x_1_orignal[:,0],x_1_orignal[:,1],'r.',label='1')\n",
        "plt.title('Plot data')\n",
        "plt.legend()\n",
        "plt.show()"
      ],
      "execution_count": 94,
      "outputs": [
        {
          "output_type": "display_data",
          "data": {
            "image/png": "[encoded data removed]",
            "text/plain": [
              "<Figure size 432x288 with 1 Axes>"
            ]
          },
          "metadata": {
            "tags": [],
            "needs_background": "light"
          }
        }
      ]
    }
  ]
}