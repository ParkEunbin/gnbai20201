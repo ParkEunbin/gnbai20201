{
  "nbformat": 4,
  "nbformat_minor": 0,
  "metadata": {
    "colab": {
      "name": "gnbai_lab3_template.ipynb",
      "provenance": [],
      "collapsed_sections": [],
      "toc_visible": true,
      "include_colab_link": true
    },
    "kernelspec": {
      "name": "python3",
      "display_name": "Python 3"
    }
  },
  "cells": [
    {
      "cell_type": "markdown",
      "metadata": {
        "id": "view-in-github",
        "colab_type": "text"
      },
      "source": [
        "<a href=\"https://colab.research.google.com/github/yh08037/gnbai20201/blob/master/lab3/gnbai_lab3_template.ipynb\" target=\"_parent\"><img src=\"https://colab.research.google.com/assets/colab-badge.svg\" alt=\"Open In Colab\"/></a>"
      ]
    },
    {
      "cell_type": "markdown",
      "metadata": {
        "id": "beKS8rVMCG5s",
        "colab_type": "text"
      },
      "source": [
        "# GnB AI Project Assignment\n"
      ]
    },
    {
      "cell_type": "markdown",
      "metadata": {
        "id": "g04qHmUoWE7a",
        "colab_type": "text"
      },
      "source": [
        "## Lab 3: Multilayer Perceptron"
      ]
    },
    {
      "cell_type": "markdown",
      "metadata": {
        "id": "NylW6VzVWHYn",
        "colab_type": "text"
      },
      "source": [
        "\n",
        "### Tasks\n",
        "1. data_lab3.txt의 데이터를 읽어서 $x, y$를 반환하는 함수를 작성하여라. data_lab3.txt는 $x_1, x_2, y$의 3개의 열로 이루어진 데이터이다. \n",
        "2. MLP를 통한 분류기 모델을 구현하여라. 단 MLP는 3개의 층을 가지며, 은닉층은 5개의 뉴런으로 이루어져있다. \n",
        "3. 은닉층과 출력층의 파라미터 값 $v, w$의 최적값은 무엇인가? \n",
        "4. 학습한 모델이 $(x_1,x_2)=(2,2)$와 $(x_1,x_2)=(4,4)$를 올바르게 분류하는지 검증하여라. \n",
        "5. iris.csv 데이터를 읽어서 $x_{train}, y_{train}, x_{test}, y_{test}$를 반환하는 함수를 작성하여라. 단, 함수 내에서 무작위로 순서를 섞은 뒤 7:3으로 train-test split을 하여라. 은닉층이 10개의 뉴런을 가지는 모델을 생성하고 100epoch마다 1번씩 train/test 데이터 각각의 error와 accuracy를 출력하여라."
      ]
    },
    {
      "cell_type": "markdown",
      "metadata": {
        "id": "sd-fAlen44r5",
        "colab_type": "text"
      },
      "source": [
        "### One-hot encoding 에 대해서\n",
        "One-hot encoding은 label의 집합을 숫자로 표현하는 많은 기법 중에 하나입니다. 이미지 분류, 자연어 처리등 다양한 분야에서 기본적인 표현 방법인 만큼 반드시 이해하여야 합니다. One-hot encoding은 label집합의 크기를 벡터의 차원으로하고, 표현하고 싶은 인덱스에 1의 값을 부여하고, 나머지 인덱스에는 0을 부여하는 벡터 표현입니다. 이렇게 표현된 벡터를 원-핫 벡터라고 합니다.\n",
        "\n",
        "One-hot encoding을 두 가지 과정으로 정리해보겠습니다.\n",
        "1. 각 label에 고유한 인덱스를 부여합니다. (정수 인코딩)\n",
        "2. 표현하고 싶은 label의 인덱스의 위치에 1을 부여하고, 다른 label의 인덱스의 위치에는 0을 부여합니다.\n",
        "\n",
        "이해를 돕기 위해서 iris dataset의 예시를 들어서 설명해드리겠습니다."
      ]
    },
    {
      "cell_type": "code",
      "metadata": {
        "id": "kQrSkcX149Vl",
        "colab_type": "code",
        "outputId": "41fb2e92-01d9-405f-a282-ac4bd6ddf46a",
        "colab": {
          "base_uri": "https://localhost:8080/",
          "height": 419
        }
      },
      "source": [
        "import pandas as pd\n",
        "name_file = \"./iris.csv\"\n",
        "columns = ['sepal_length', 'sepal_width', 'petal_length', 'petal_width', 'species']\n",
        "pd.read_csv(name_file, names=columns)"
      ],
      "execution_count": 0,
      "outputs": [
        {
          "output_type": "execute_result",
          "data": {
            "text/html": [
              "<div>\n",
              "<style scoped>\n",
              "    .dataframe tbody tr th:only-of-type {\n",
              "        vertical-align: middle;\n",
              "    }\n",
              "\n",
              "    .dataframe tbody tr th {\n",
              "        vertical-align: top;\n",
              "    }\n",
              "\n",
              "    .dataframe thead th {\n",
              "        text-align: right;\n",
              "    }\n",
              "</style>\n",
              "<table border=\"1\" class=\"dataframe\">\n",
              "  <thead>\n",
              "    <tr style=\"text-align: right;\">\n",
              "      <th></th>\n",
              "      <th>sepal_length</th>\n",
              "      <th>sepal_width</th>\n",
              "      <th>petal_length</th>\n",
              "      <th>petal_width</th>\n",
              "      <th>species</th>\n",
              "    </tr>\n",
              "  </thead>\n",
              "  <tbody>\n",
              "    <tr>\n",
              "      <th>0</th>\n",
              "      <td>5.1</td>\n",
              "      <td>3.5</td>\n",
              "      <td>1.4</td>\n",
              "      <td>0.2</td>\n",
              "      <td>Iris-setosa</td>\n",
              "    </tr>\n",
              "    <tr>\n",
              "      <th>1</th>\n",
              "      <td>4.9</td>\n",
              "      <td>3.0</td>\n",
              "      <td>1.4</td>\n",
              "      <td>0.2</td>\n",
              "      <td>Iris-setosa</td>\n",
              "    </tr>\n",
              "    <tr>\n",
              "      <th>2</th>\n",
              "      <td>4.7</td>\n",
              "      <td>3.2</td>\n",
              "      <td>1.3</td>\n",
              "      <td>0.2</td>\n",
              "      <td>Iris-setosa</td>\n",
              "    </tr>\n",
              "    <tr>\n",
              "      <th>3</th>\n",
              "      <td>4.6</td>\n",
              "      <td>3.1</td>\n",
              "      <td>1.5</td>\n",
              "      <td>0.2</td>\n",
              "      <td>Iris-setosa</td>\n",
              "    </tr>\n",
              "    <tr>\n",
              "      <th>4</th>\n",
              "      <td>5.0</td>\n",
              "      <td>3.6</td>\n",
              "      <td>1.4</td>\n",
              "      <td>0.2</td>\n",
              "      <td>Iris-setosa</td>\n",
              "    </tr>\n",
              "    <tr>\n",
              "      <th>...</th>\n",
              "      <td>...</td>\n",
              "      <td>...</td>\n",
              "      <td>...</td>\n",
              "      <td>...</td>\n",
              "      <td>...</td>\n",
              "    </tr>\n",
              "    <tr>\n",
              "      <th>145</th>\n",
              "      <td>6.7</td>\n",
              "      <td>3.0</td>\n",
              "      <td>5.2</td>\n",
              "      <td>2.3</td>\n",
              "      <td>Iris-virginica</td>\n",
              "    </tr>\n",
              "    <tr>\n",
              "      <th>146</th>\n",
              "      <td>6.3</td>\n",
              "      <td>2.5</td>\n",
              "      <td>5.0</td>\n",
              "      <td>1.9</td>\n",
              "      <td>Iris-virginica</td>\n",
              "    </tr>\n",
              "    <tr>\n",
              "      <th>147</th>\n",
              "      <td>6.5</td>\n",
              "      <td>3.0</td>\n",
              "      <td>5.2</td>\n",
              "      <td>2.0</td>\n",
              "      <td>Iris-virginica</td>\n",
              "    </tr>\n",
              "    <tr>\n",
              "      <th>148</th>\n",
              "      <td>6.2</td>\n",
              "      <td>3.4</td>\n",
              "      <td>5.4</td>\n",
              "      <td>2.3</td>\n",
              "      <td>Iris-virginica</td>\n",
              "    </tr>\n",
              "    <tr>\n",
              "      <th>149</th>\n",
              "      <td>5.9</td>\n",
              "      <td>3.0</td>\n",
              "      <td>5.1</td>\n",
              "      <td>1.8</td>\n",
              "      <td>Iris-virginica</td>\n",
              "    </tr>\n",
              "  </tbody>\n",
              "</table>\n",
              "<p>150 rows × 5 columns</p>\n",
              "</div>"
            ],
            "text/plain": [
              "     sepal_length  sepal_width  petal_length  petal_width         species\n",
              "0             5.1          3.5           1.4          0.2     Iris-setosa\n",
              "1             4.9          3.0           1.4          0.2     Iris-setosa\n",
              "2             4.7          3.2           1.3          0.2     Iris-setosa\n",
              "3             4.6          3.1           1.5          0.2     Iris-setosa\n",
              "4             5.0          3.6           1.4          0.2     Iris-setosa\n",
              "..            ...          ...           ...          ...             ...\n",
              "145           6.7          3.0           5.2          2.3  Iris-virginica\n",
              "146           6.3          2.5           5.0          1.9  Iris-virginica\n",
              "147           6.5          3.0           5.2          2.0  Iris-virginica\n",
              "148           6.2          3.4           5.4          2.3  Iris-virginica\n",
              "149           5.9          3.0           5.1          1.8  Iris-virginica\n",
              "\n",
              "[150 rows x 5 columns]"
            ]
          },
          "metadata": {
            "tags": []
          },
          "execution_count": 1
        }
      ]
    },
    {
      "cell_type": "markdown",
      "metadata": {
        "id": "ApmW2Ln_4_25",
        "colab_type": "text"
      },
      "source": [
        "iris dataset은 붓꽃의 3가지 종(setosa, versicolor, virginica)에 대해 꽃받침(sepal)과 꽃잎(petal)의 길이를 정리한 데이터입니다. 위에서 확인할 수 있듯이, 원본의 데이터에서 붓꽃의 종에 해당하는 열(column)은 'Iris-setosa', 'Iris-versicolor', 'Iris-virginica'와 같이 문자열의 데이터입니다.\n",
        "컴퓨터는 문자보다는 숫자를 더 잘 처리할 수 있습니다. 이를 위해서 One-hot encoding을 사용하여 종에 해당하는 문자열 데이터를 one-hot vector로 변환하여 학습에 사용할 것입니다.\n",
        "\n",
        "1. 먼저 setosa, versicolor, virginica의 세가지 label을 각각 0, 1, 2로 고유한 인덱스를 부여합니다.\n",
        "2. 각 label에 해당하는 인덱스만 1의 값이고, 나머지 인덱스는 0의 값을 가지는 벡터를 만듭니다.\n",
        "\n",
        "iris dataset에서 150개의 데이터 중에서 5개를 뽑아서 살펴봅시다. 이때 species 열의 데이터가 다음과 같이 뽑혔다고 가정해봅시다.\n",
        "\n",
        "$$\n",
        "y=\n",
        "\\begin{bmatrix} \n",
        "    \\text{Iris-versicolor} \\\\ \n",
        "    \\text{Iris-setosa} \\\\ \n",
        "    \\text{Iris-virginica}\\\\ \n",
        "    \\text{Iris-versicolor} \\\\ \n",
        "    \\text{Iris-setosa} \n",
        "\\end{bmatrix}\n",
        "$$\n",
        "\n",
        "앞 단계에서 설명한 것과 같이 \n",
        "```python\n",
        "{'Iris-setosa': 0, 'Iris-versicolor':1, 'Iris-virginica': 2}\n",
        "```\n",
        "와 같이 setosa, versicolor, virginica의 세가지 label을 각각 0, 1, 2로 고유한 인덱스를 부여합니다.\n",
        "\n",
        "$$\n",
        "y=\n",
        "\\begin{bmatrix} \n",
        "    \\text{Iris-versicolor : 1} \\\\ \n",
        "    \\text{Iris-setosa : 0} \\\\ \n",
        "    \\text{Iris-virginica : 2}\\\\ \n",
        "    \\text{Iris-versicolor : 1} \\\\ \n",
        "    \\text{Iris-setosa : 0} \n",
        "\\end{bmatrix}\n",
        "$$\n",
        "\n",
        "그 다음, 부여받은 인덱스가 $0$이라면 $\\begin{bmatrix} 1 & 0 & 0 \\end{bmatrix}$, $1$이라면 $\\begin{bmatrix} 0 & 1 & 0 \\end{bmatrix}$, $2$라면 $\\begin{bmatrix} 0 & 0 & 1 \\end{bmatrix}$의 벡터로 각각 변환합니다.\n",
        "\n",
        "$$\n",
        "y=\n",
        "\\begin{bmatrix} \n",
        "    0 & 1 & 0 \\\\ \n",
        "    1 & 0 & 0 \\\\ \n",
        "    0 & 0 & 1 \\\\ \n",
        "    0 & 1 & 0 \\\\ \n",
        "    1 & 0 & 0 \\\\ \n",
        "\\end{bmatrix}\n",
        "$$\n",
        "\n",
        "이렇게 One-hot encoding을 통해 문자열 label을 벡터로 변환함으로써 $(I, J)$ 모양의 y행렬을 얻을 수 있습니다.\n"
      ]
    },
    {
      "cell_type": "markdown",
      "metadata": {
        "id": "jTlFThIS0Mi2",
        "colab_type": "text"
      },
      "source": [
        "### Imports"
      ]
    },
    {
      "cell_type": "code",
      "metadata": {
        "id": "4nHyM3lN0O_O",
        "colab_type": "code",
        "colab": {}
      },
      "source": [
        "import numpy as np\n",
        "import pandas as pd\n",
        "import matplotlib.pyplot as plt"
      ],
      "execution_count": 0,
      "outputs": []
    },
    {
      "cell_type": "markdown",
      "metadata": {
        "id": "RG42jaXkz_NY",
        "colab_type": "text"
      },
      "source": [
        "### 1. Prepare data"
      ]
    },
    {
      "cell_type": "code",
      "metadata": {
        "id": "2WpnAg_d0MG6",
        "colab_type": "code",
        "colab": {}
      },
      "source": [
        "def load_data():\n",
        "    ''' data_lab3.txt 파일을 읽고 데이터를 전처리하여 numpy 행렬로 반환합니다.\n",
        "    입력 - 없음\n",
        "    출력 - x : (I,N)의 shape을 가지는 numpy 행렬\n",
        "         - y : (I,J)의 shape을 가지는 one-hot encoding된 numpy 행렬\n",
        "    '''\n",
        "    # read data file\n",
        "\n",
        "    # shuffle order of data\n",
        "\n",
        "    # define x\n",
        "\n",
        "    # define y as one-hot vector\n",
        "\n",
        "    # clear memory\n",
        "\n",
        "    return x, y"
      ],
      "execution_count": 0,
      "outputs": []
    },
    {
      "cell_type": "markdown",
      "metadata": {
        "id": "npU3FRWK4qqr",
        "colab_type": "text"
      },
      "source": [
        "### 2. Define model"
      ]
    },
    {
      "cell_type": "code",
      "metadata": {
        "id": "52_Vrgti4w0R",
        "colab_type": "code",
        "colab": {}
      },
      "source": [
        "class MLP_3layer:\n",
        "\n",
        "    def __init__(self, layer_sizes=(2,5,2), hyper_params=(0.01,0.01,3000)):\n",
        "        ''' MLP_3layer 클래스의 생성자입니다.\n",
        "        입력 - layer_sizes  : (N, K, J)의 튜플. 입력층, 은닉층, 출력층의 크기를 결정\n",
        "             - hyper_params : (alpha_v, alpha_w, max_epoch)의 튜플\n",
        "        출력 - 없음\n",
        "        '''\n",
        "        # define N, K, J\n",
        "        self.N, self.K, self.J = layer_sizes\n",
        "\n",
        "        # define hyper parameters\n",
        "        self.alpha_v, self.alpha_w, self.max_epoch = hyper_params\n",
        "\n",
        "        # initialize parameters randomly\n",
        "        self.v = np.random.rand(self.N+1, self.K)   # weight of hidden layer\n",
        "        self.w = np.random.rand(self.K+1, self.J)   # weight of output layer\n",
        "\n",
        "\n",
        "    def train(self, x, y, verbose=True):\n",
        "        ''' train data로 모델을 학습시킵니다. \n",
        "        입력 - x : train data의 x numpy 행렬\n",
        "             - y : train data의 y numpy 행렬\n",
        "             - verbose : 학습 실행과정을 print할지 결정하는 boolean값\n",
        "        출력 - history_err : 100번마다 계산한 error를 모아둔 list\n",
        "             - history_acc : 100번마다 계산한 accuracy를 모아둔 list\n",
        "        '''\n",
        "        # 학습 데이터 행렬을 모델에 복사\n",
        "        self.I = x.shape[0]\n",
        "        self.x = x\n",
        "        self.y = y\n",
        "        \n",
        "        # error, accuracy 값을 기록하기 위한 빈 리스트 생성\n",
        "        history_err = []\n",
        "        history_acc = []\n",
        "\n",
        "        # 메인 학습 반복문\n",
        "        for epoch in range(1, self.max_epoch+1):\n",
        "            \n",
        "            # 순전파 메소드 호출\n",
        "            \n",
        "            # 역전파 메소드 호출\n",
        "            \n",
        "            # 100번의 epoch마다 train data의 error와 accuracy를 계산하여 기록/출력\n",
        "            if epoch % 100 == 0:\n",
        "                # 함수로 error, accuracy 구하기\n",
        "\n",
        "                # 구한 error, accuracy를 리스트에 추가\n",
        "\n",
        "                # verbose가 True일 때\n",
        "                if verbose:\n",
        "                    # epoch, error, accuracy 출력\n",
        "        \n",
        "        return history_err, history_acc\n",
        "    \n",
        "\n",
        "    def train_with_eval(self, x, y, x_test, y_test, verbose=True):\n",
        "        ''' train data로 모델을 학습시키면서 100번마다 test data으로 평가합니다.\n",
        "        입력 - x : train data의 x numpy 행렬\n",
        "             - y : train data의 y numpy 행렬\n",
        "             - x_test : test data의 x numpy 행렬\n",
        "             - y_test : test data의 y numpy 행렬\n",
        "             - verbose : 학습 실행과정을 print할지 결정하는 boolean값\n",
        "        출력 - history_err : 100번마다 계산한 error를 모아둔 list\n",
        "             - history_acc : 100번마다 계산한 accuracy를 모아둔 list\n",
        "             - history_err_test : 100번마다 test data로 계산한 error를 모아둔 list\n",
        "             - history_acc_test : 100번마다 test data로 계산한 accuracy를 모아둔 list\n",
        "        '''\n",
        "        # 학습 데이터 행렬을 모델에 복사\n",
        "        self.I = x.shape[0]\n",
        "        self.x = x\n",
        "        self.y = y\n",
        "\n",
        "        # error, accuracy 값을 기록하기 위한 빈 리스트 생성\n",
        "        history_err = []\n",
        "        history_acc = []\n",
        "        history_err_test = []\n",
        "        history_acc_test = []\n",
        "        \n",
        "        # 메인 학습 반복문\n",
        "        for epoch in range(1, self.max_epoch+1):\n",
        "            \n",
        "            # 순전파 메소드 호출\n",
        "            \n",
        "            # 역전파 메소드 호출\n",
        "            \n",
        "            # 100번의 epoch마다 train/test data의 error와 accuracy를 계산하여 기록/출력\n",
        "            if epoch % 100 == 0:\n",
        "                # 함수로 error, accuracy, test_error, test_accuracy구하기\n",
        "\n",
        "                # 구한 error, accuracy, test_error, test_accuracy를 리스트에 추가\n",
        "                \n",
        "                # verbose가 True일 때\n",
        "                if verbose:\n",
        "                    # epoch, error, accuracy, test_error, test_accuracy 출력\n",
        "                \n",
        "                # evaluate 함수에서 데이터를 바꾸기 때문에 원래 데이터로 돌려놓는다.\n",
        "                self.I = x.shape[0]\n",
        "                self.x = x\n",
        "                self.y = y\n",
        "        \n",
        "        return history_err, history_acc, history_err_test, history_acc_test\n",
        "\n",
        "\n",
        "    def forward_prop(self):\n",
        "        ''' 모델의 순전파(forward propagation)를 한번 실행합니다. \n",
        "        입력 - 없음\n",
        "        출력 - 없음\n",
        "        '''\n",
        "        # 은닉층 단계\n",
        "\n",
        "        # 출력층 단계\n",
        "\n",
        "\n",
        "    def back_prop(self):\n",
        "        ''' 모델의 역전파(back propagation)를 한번 실행합니다. \n",
        "        입력 - 없음\n",
        "        출력 - 없음\n",
        "        '''\n",
        "        # 출력층 단계\n",
        "\n",
        "        # 은닉층 단계\n",
        "\n",
        "\n",
        "    def predict(self, x):\n",
        "        ''' 임의의 데이터 행렬 x에 대한 예측값 행렬을 구합니다. \n",
        "        입력 - x : 임의의 데이터 x의 numpy 행렬\n",
        "        출력 - labels : 각 데이터에 대해 예측한 label 인덱스의 numpy 행렬\n",
        "        '''\n",
        "        # 테스트 데이터 행렬을 모델에 복사\n",
        "        self.I = x.shape[0]\n",
        "        self.x = x\n",
        "\n",
        "        # 순전파를 통해 G를 구한다.\n",
        "\n",
        "        # G를 통해 labels를 구한다. (hint: np.argmax())\n",
        "\n",
        "        return labels\n",
        "    \n",
        "\n",
        "    def evaluate(self, x, y):\n",
        "        ''' 임의의 데이터 행렬 x, y에 대해 오차와 정확도를 구합니다.\n",
        "        입력 - x : 임의의 데이터 x의 numpy 행렬\n",
        "             - y : 임의의 데이터 y의 numpy 행렬\n",
        "        출력 - error    : x, y에 대한 sum of squared error 값\n",
        "             - accuracy : x, y에 대한 accuracy 값(%)\n",
        "        '''\n",
        "        # 테스트 데이터 행렬을 모델에 복사\n",
        "        self.I = x.shape[0]\n",
        "        self.x = x\n",
        "        self.y = y\n",
        "\n",
        "        # 순전파를 통해 G를 구한다.\n",
        "\n",
        "        # SSE(), get_accuracy()로 error와 accuracy를 구한다.\n",
        "\n",
        "        return error, accuracy\n",
        "\n",
        "\n",
        "    def sigmoid(self, z):\n",
        "        ''' 행렬 z을 입력으로 하는 sigmoid 함수입니다.\n",
        "        입력 - z : 임의의 shape을 가지는 numpy 행렬\n",
        "        출력 - result : 행렬 z에 element-wise로 sigmoid 함수를 취한 행렬\n",
        "        '''\n",
        "        # sigmoid 함수를 완성해주세요!\n",
        "\n",
        "        return result\n",
        "\n",
        "    def SSE(self):\n",
        "        ''' 모델의 sum of squared error를 구합니다.\n",
        "        입력 - 없음\n",
        "        출력 - error : 모델의 행렬 G와 행렬 y를 통해 구한 SSE 값\n",
        "        '''\n",
        "        # SSE 함수를 완성해주세요!\n",
        "\n",
        "        return error\n",
        "    \n",
        "    def get_accuracy(self):\n",
        "        ''' 모델의 accuracy를 구합니다.\n",
        "        입력 - 없음\n",
        "        출력 - accuracy : 모델의 행렬 G와 행렬 y를 통해 구한 accuracy 값\n",
        "        '''\n",
        "        # get_accuracy 함수를 완성해주세요!\n",
        "\n",
        "        return accuracy\n",
        "        \n",
        "    def get_parameters(self):\n",
        "        return self.v, self.w"
      ],
      "execution_count": 0,
      "outputs": []
    },
    {
      "cell_type": "markdown",
      "metadata": {
        "id": "g59rfZRas3bq",
        "colab_type": "text"
      },
      "source": [
        "### 3. Train model"
      ]
    },
    {
      "cell_type": "code",
      "metadata": {
        "id": "50Lo93rMAJ56",
        "colab_type": "code",
        "outputId": "8c7a167d-cbce-418d-c9c7-a35f0fd2e181",
        "colab": {
          "base_uri": "https://localhost:8080/",
          "height": 557
        }
      },
      "source": [
        "# load_data() 함수로 데이터 행렬 구하기\n",
        "x, y = load_data()\n",
        "\n",
        "# 모델 생성자에 입력할 매개변수 정의\n",
        "layer_sizes  = (x.shape[1], 5, y.shape[1])\n",
        "hyper_params = (0.01, 0.01, 3000)\n",
        "\n",
        "# 모델 생성\n",
        "model = MLP_3layer(layer_sizes, hyper_params)\n",
        "\n",
        "# 모델 학습 시작 / 반환값 저장\n",
        "history = model.train(x, y)"
      ],
      "execution_count": 0,
      "outputs": [
        {
          "output_type": "stream",
          "text": [
            "epoch : 100\terror : 12.311083\taccuracy : 58.823529\n",
            "epoch : 200\terror : 12.246221\taccuracy : 58.823529\n",
            "epoch : 300\terror : 12.177715\taccuracy : 58.823529\n",
            "epoch : 400\terror : 12.100820\taccuracy : 58.823529\n",
            "epoch : 500\terror : 12.009708\taccuracy : 58.823529\n",
            "epoch : 600\terror : 11.898003\taccuracy : 58.823529\n",
            "epoch : 700\terror : 11.758147\taccuracy : 58.823529\n",
            "epoch : 800\terror : 11.582255\taccuracy : 58.823529\n",
            "epoch : 900\terror : 11.363656\taccuracy : 58.823529\n",
            "epoch : 1000\terror : 11.097877\taccuracy : 64.705882\n",
            "epoch : 1100\terror : 10.782694\taccuracy : 70.588235\n",
            "epoch : 1200\terror : 10.418032\taccuracy : 76.470588\n",
            "epoch : 1300\terror : 10.006577\taccuracy : 82.352941\n",
            "epoch : 1400\terror : 9.554971\taccuracy : 86.274510\n",
            "epoch : 1500\terror : 9.074542\taccuracy : 88.235294\n",
            "epoch : 1600\terror : 8.580505\taccuracy : 90.196078\n",
            "epoch : 1700\terror : 8.089500\taccuracy : 92.156863\n",
            "epoch : 1800\terror : 7.616571\taccuracy : 96.078431\n",
            "epoch : 1900\terror : 7.172958\taccuracy : 96.078431\n",
            "epoch : 2000\terror : 6.765382\taccuracy : 96.078431\n",
            "epoch : 2100\terror : 6.396558\taccuracy : 98.039216\n",
            "epoch : 2200\terror : 6.066280\taccuracy : 98.039216\n",
            "epoch : 2300\terror : 5.772524\taccuracy : 98.039216\n",
            "epoch : 2400\terror : 5.512330\taccuracy : 98.039216\n",
            "epoch : 2500\terror : 5.282400\taccuracy : 98.039216\n",
            "epoch : 2600\terror : 5.079468\taccuracy : 98.039216\n",
            "epoch : 2700\terror : 4.900502\taccuracy : 98.039216\n",
            "epoch : 2800\terror : 4.742807\taccuracy : 98.039216\n",
            "epoch : 2900\terror : 4.604069\taccuracy : 98.039216\n",
            "epoch : 3000\terror : 4.482383\taccuracy : 98.039216\n"
          ],
          "name": "stdout"
        }
      ]
    },
    {
      "cell_type": "markdown",
      "metadata": {
        "id": "yJ_AuObtBm57",
        "colab_type": "text"
      },
      "source": [
        "### 4. What are the optimal parameter values?"
      ]
    },
    {
      "cell_type": "code",
      "metadata": {
        "id": "zeAAfxURCAvk",
        "colab_type": "code",
        "outputId": "2ab5acc7-d17a-41e4-98fc-6ca40db19b2e",
        "colab": {
          "base_uri": "https://localhost:8080/",
          "height": 233
        }
      },
      "source": [
        "# get_parameter() 메소드로 모델의 파라미터 값 구하기\n"
      ],
      "execution_count": 0,
      "outputs": [
        {
          "output_type": "stream",
          "text": [
            "parameter values for hidden layer\n",
            "[[ 0.49766588  1.08318823  1.40261441  0.93370853 -2.36919314]\n",
            " [ 1.08321747  1.31437997  1.35028741  1.39556907  0.45609098]\n",
            " [ 1.71465423  1.26879008  1.00716374  0.85912764  0.57324343]]\n",
            "\n",
            "parameter values for output layer\n",
            "[[ 1.22702344 -1.82513321]\n",
            " [ 1.42645165 -1.37246855]\n",
            " [ 1.39247164 -1.28150292]\n",
            " [ 1.19544075 -0.73083541]\n",
            " [ 0.01068802  0.01787479]\n",
            " [-8.07184277  7.977847  ]]\n"
          ],
          "name": "stdout"
        }
      ]
    },
    {
      "cell_type": "markdown",
      "metadata": {
        "id": "aB9U1UgJEvcA",
        "colab_type": "text"
      },
      "source": [
        "### 5. Show that your classifier can correctly classify for (2, 2), (4, 4)\n",
        "(직접 plot_result() 함수를 정의해서 plot해보세요!)"
      ]
    },
    {
      "cell_type": "code",
      "metadata": {
        "id": "AJnBta7hNLcK",
        "colab_type": "code",
        "outputId": "535659b5-0430-467b-ac0e-e655ed3413e6",
        "colab": {
          "base_uri": "https://localhost:8080/",
          "height": 265
        }
      },
      "source": [
        "# predict() 메소드로 train 데이터에 대한 예측값을 구한다\n",
        "\n",
        "# train 데이터에 대한 예측값을 plot한다.\n"
      ],
      "execution_count": 0,
      "outputs": [
        {
          "output_type": "display_data",
          "data": {
            "image/png": "[encoded data removed]",
            "text/plain": [
              "<Figure size 432x288 with 1 Axes>"
            ]
          },
          "metadata": {
            "tags": [],
            "needs_background": "light"
          }
        }
      ]
    },
    {
      "cell_type": "code",
      "metadata": {
        "id": "fQgaLf0-QLns",
        "colab_type": "code",
        "outputId": "907eee73-3760-41ba-c87a-fc66311c743f",
        "colab": {
          "base_uri": "https://localhost:8080/",
          "height": 265
        }
      },
      "source": [
        "# test 데이터 정의\n",
        "x_test = np.array([[2, 2], [4, 4]])\n",
        "\n",
        "# predict() 메소드로 test 데이터에 대한 예측값을 구한다\n",
        "\n",
        "# train 데이터와 test 데이터에 대한 예측값을 함께 plot한다.\n"
      ],
      "execution_count": 0,
      "outputs": [
        {
          "output_type": "display_data",
          "data": {
            "image/png": "[encoded data removed]",
            "text/plain": [
              "<Figure size 432x288 with 1 Axes>"
            ]
          },
          "metadata": {
            "tags": [],
            "needs_background": "light"
          }
        }
      ]
    },
    {
      "cell_type": "markdown",
      "metadata": {
        "id": "98Zm1d2A9zZ8",
        "colab_type": "text"
      },
      "source": [
        "## (+) Iris dataset classification"
      ]
    },
    {
      "cell_type": "markdown",
      "metadata": {
        "id": "NwVKQmP9WSZU",
        "colab_type": "text"
      },
      "source": [
        "#### Prepare data"
      ]
    },
    {
      "cell_type": "code",
      "metadata": {
        "id": "wi0TgmJO-VSV",
        "colab_type": "code",
        "colab": {}
      },
      "source": [
        "def load_iris_data(split_rate=0.7):\n",
        "    ''' iris.csv 파일을 읽고 데이터를 전처리하여 numpy 행렬로 반환합니다.\n",
        "    입력 - split_rate : train/test split의 비율\n",
        "    출력 - x_train : (I_train,N)의 shape을 가지는 numpy 행렬\n",
        "         - y_train : (I_train,J)의 shape을 가지는 one-hot encoding된 numpy 행렬\n",
        "         - x_test  : (I_test,N)의 shape을 가지는 numpy 행렬\n",
        "         - y_test  : (I_test,J)의 shape을 가지는 one-hot encoding된 numpy 행렬\n",
        "    '''\n",
        "    # read data file\n",
        "\n",
        "    # shuffle order of data\n",
        "\n",
        "    # define x\n",
        "\n",
        "    # define y as one-hot vector\n",
        "\n",
        "    # train-test split\n",
        "\n",
        "    # clear memory\n",
        "\n",
        "    return x_train, y_train, x_test, y_test"
      ],
      "execution_count": 0,
      "outputs": []
    },
    {
      "cell_type": "markdown",
      "metadata": {
        "id": "lmjVtQzFV266",
        "colab_type": "text"
      },
      "source": [
        "#### Train model"
      ]
    },
    {
      "cell_type": "code",
      "metadata": {
        "id": "5FXsNqER6nsB",
        "colab_type": "code",
        "outputId": "28fa3baa-4c4e-4af3-b6c6-a8ba9bf251b0",
        "colab": {
          "base_uri": "https://localhost:8080/",
          "height": 377
        }
      },
      "source": [
        "# load_data() 함수로 데이터 행렬 구하기\n",
        "x_train, y_train, x_test, y_test = load_iris_data(0.7)\n",
        "\n",
        "# 모델 생성자에 입력할 매개변수 정의\n",
        "layer_sizes  = (x_train.shape[1], 10, y_train.shape[1])\n",
        "hyper_params = (0.01, 0.01, 2000)\n",
        "\n",
        "# 모델 생성\n",
        "model = MLP_3layer(layer_sizes, hyper_params)\n",
        "\n",
        "# 모델 학습 시작 / 반환값 저장\n",
        "history = model.train_with_eval(x_train, y_train, x_test, y_test)"
      ],
      "execution_count": 0,
      "outputs": [
        {
          "output_type": "stream",
          "text": [
            "epoch : 100\ttrain err : 56.519445\ttrain acc : 35.238095\ttest err : 27.233557\ttest acc : 28.888889\n",
            "epoch : 200\ttrain err : 54.666076\ttrain acc : 35.238095\ttest err : 26.762827\ttest acc : 28.888889\n",
            "epoch : 300\ttrain err : 24.971887\ttrain acc : 73.333333\ttest err : 12.031529\ttest acc : 51.111111\n",
            "epoch : 400\ttrain err : 18.434483\ttrain acc : 75.238095\ttest err : 9.175797\ttest acc : 53.333333\n",
            "epoch : 500\ttrain err : 14.210443\ttrain acc : 93.333333\ttest err : 7.134070\ttest acc : 91.111111\n",
            "epoch : 600\ttrain err : 14.727855\ttrain acc : 95.238095\ttest err : 6.518569\ttest acc : 91.111111\n",
            "epoch : 700\ttrain err : 11.665070\ttrain acc : 96.190476\ttest err : 4.913603\ttest acc : 95.555556\n",
            "epoch : 800\ttrain err : 6.792570\ttrain acc : 97.142857\ttest err : 2.886814\ttest acc : 95.555556\n",
            "epoch : 900\ttrain err : 4.800890\ttrain acc : 97.142857\ttest err : 2.043482\ttest acc : 95.555556\n",
            "epoch : 1000\ttrain err : 3.885536\ttrain acc : 97.142857\ttest err : 1.674317\ttest acc : 95.555556\n",
            "epoch : 1100\ttrain err : 3.376482\ttrain acc : 97.142857\ttest err : 1.486428\ttest acc : 95.555556\n",
            "epoch : 1200\ttrain err : 3.052076\ttrain acc : 97.142857\ttest err : 1.381077\ttest acc : 95.555556\n",
            "epoch : 1300\ttrain err : 2.825178\ttrain acc : 98.095238\ttest err : 1.318767\ttest acc : 95.555556\n",
            "epoch : 1400\ttrain err : 2.655737\ttrain acc : 98.095238\ttest err : 1.281101\ttest acc : 95.555556\n",
            "epoch : 1500\ttrain err : 2.522994\ttrain acc : 98.095238\ttest err : 1.258508\ttest acc : 95.555556\n",
            "epoch : 1600\ttrain err : 2.415158\ttrain acc : 98.095238\ttest err : 1.245597\ttest acc : 95.555556\n",
            "epoch : 1700\ttrain err : 2.325041\ttrain acc : 98.095238\ttest err : 1.239156\ttest acc : 95.555556\n",
            "epoch : 1800\ttrain err : 2.248010\ttrain acc : 98.095238\ttest err : 1.237191\ttest acc : 95.555556\n",
            "epoch : 1900\ttrain err : 2.180943\ttrain acc : 98.095238\ttest err : 1.238424\ttest acc : 95.555556\n",
            "epoch : 2000\ttrain err : 2.121657\ttrain acc : 98.095238\ttest err : 1.242019\ttest acc : 95.555556\n"
          ],
          "name": "stdout"
        }
      ]
    },
    {
      "cell_type": "markdown",
      "metadata": {
        "id": "Q36513GlVrF_",
        "colab_type": "text"
      },
      "source": [
        "#### Plot train history"
      ]
    },
    {
      "cell_type": "code",
      "metadata": {
        "id": "DTivrWWTHwb_",
        "colab_type": "code",
        "colab": {}
      },
      "source": [
        "# model.train_with_eval()의 반환값 history로부터 \n",
        "# err_train, acc_train, err_test, acc_test로 unpacking하기 \n",
        "\n",
        "# err_train, err_test는 SSE여서 직접적인 비교가 불가능하므로\n",
        "# err_test의 각각의 요소에 7/3을 곱하여 크기를 맞추어준다\n"
      ],
      "execution_count": 0,
      "outputs": []
    },
    {
      "cell_type": "code",
      "metadata": {
        "id": "pLe1c4yZTbLU",
        "colab_type": "code",
        "outputId": "01b63cf9-7cb1-46c0-ff8e-a7fc0c857246",
        "colab": {
          "base_uri": "https://localhost:8080/",
          "height": 281
        }
      },
      "source": [
        "# err_train, err_test를 함께 plot하기\n"
      ],
      "execution_count": 0,
      "outputs": [
        {
          "output_type": "display_data",
          "data": {
            "image/png": "[encoded data removed]",
            "text/plain": [
              "<Figure size 432x288 with 1 Axes>"
            ]
          },
          "metadata": {
            "tags": [],
            "needs_background": "light"
          }
        }
      ]
    },
    {
      "cell_type": "code",
      "metadata": {
        "id": "h6mIxJaNUEF_",
        "colab_type": "code",
        "outputId": "d996e151-d708-4786-e500-3a8910b3003e",
        "colab": {
          "base_uri": "https://localhost:8080/",
          "height": 281
        }
      },
      "source": [
        "# acc_train, acc_test를 함께 plot하기\n"
      ],
      "execution_count": 0,
      "outputs": [
        {
          "output_type": "display_data",
          "data": {
            "image/png": "[encoded data removed]",
            "text/plain": [
              "<Figure size 432x288 with 1 Axes>"
            ]
          },
          "metadata": {
            "tags": [],
            "needs_background": "light"
          }
        }
      ]
    }
  ]
}