{
  "nbformat": 4,
  "nbformat_minor": 0,
  "metadata": {
    "colab": {
      "name": "gnbai_lab4_과제.ipynb",
      "provenance": [],
      "collapsed_sections": [],
      "authorship_tag": "ABX9TyOBm6hs9XA9h8MLdCr6Do5J",
      "include_colab_link": true
    },
    "kernelspec": {
      "name": "python3",
      "display_name": "Python 3"
    }
  },
  "cells": [
    {
      "cell_type": "markdown",
      "metadata": {
        "id": "view-in-github",
        "colab_type": "text"
      },
      "source": [
        "<a href=\"https://colab.research.google.com/github/ParkEunbin/gnbai20201/blob/master/lab4/gnbai_lab4_%EA%B3%BC%EC%A0%9C.ipynb\" target=\"_parent\"><img src=\"https://colab.research.google.com/assets/colab-badge.svg\" alt=\"Open In Colab\"/></a>"
      ]
    },
    {
      "cell_type": "markdown",
      "metadata": {
        "id": "9uNcvPuIUKtr",
        "colab_type": "text"
      },
      "source": [
        "1.Import"
      ]
    },
    {
      "cell_type": "code",
      "metadata": {
        "id": "driwIHy1T17K",
        "colab_type": "code",
        "colab": {}
      },
      "source": [
        "import numpy as np\n",
        "import pandas as pd\n",
        "import matplotlib.pyplot as plt"
      ],
      "execution_count": 0,
      "outputs": []
    },
    {
      "cell_type": "markdown",
      "metadata": {
        "id": "vFhol5XxUOn_",
        "colab_type": "text"
      },
      "source": [
        "2.Load data"
      ]
    },
    {
      "cell_type": "code",
      "metadata": {
        "id": "8vPDw8UvUQV1",
        "colab_type": "code",
        "colab": {}
      },
      "source": [
        "columns=['x1','x2','x3','x4','y']\n",
        "data=pd.read_csv(\"/content/iris.csv\",names=columns)"
      ],
      "execution_count": 0,
      "outputs": []
    },
    {
      "cell_type": "code",
      "metadata": {
        "id": "btRSPRRTUffu",
        "colab_type": "code",
        "outputId": "93d675ab-34f6-48cc-d110-601f65c43dc9",
        "colab": {
          "base_uri": "https://localhost:8080/",
          "height": 34
        }
      },
      "source": [
        "data.shape"
      ],
      "execution_count": 329,
      "outputs": [
        {
          "output_type": "execute_result",
          "data": {
            "text/plain": [
              "(150, 5)"
            ]
          },
          "metadata": {
            "tags": []
          },
          "execution_count": 329
        }
      ]
    },
    {
      "cell_type": "code",
      "metadata": {
        "id": "muUjYxiZVSKr",
        "colab_type": "code",
        "colab": {}
      },
      "source": [
        "#쪼개기\n",
        "\n"
      ],
      "execution_count": 0,
      "outputs": []
    },
    {
      "cell_type": "code",
      "metadata": {
        "id": "DGj8EIkdVQHh",
        "colab_type": "code",
        "colab": {}
      },
      "source": [
        "#넘파이 행렬로 바꺼줌\n",
        "data_np=np.asarray(data)\n",
        "\n",
        "#shuffle data\n",
        "np.random.shuffle(data_np)\n",
        "\n",
        "data_size=data.shape[0]\n",
        "train_size = int(data_size * 0.7)\n",
        "test_size = data_size - train_size\n",
        "\n",
        "#define x\n",
        "x=data_np[:, :4]\n",
        "\n",
        "#define y\n",
        "labels=data_np[:, 4]\n",
        "y=np.zeros((labels.shape[0],3))\n",
        "for a in range (labels.shape[0]):\n",
        "  if labels[a]=='Iris-virginica':\n",
        "    y[a,0]=1\n",
        "  elif labels[a]=='Iris-versicolor':\n",
        "    y[a,1]=1\n",
        "  else:\n",
        "    y[a,2]=1\n",
        "\n",
        "#쪼개기\n",
        "x_train=x[:train_size]\n",
        "y_train=y[:train_size,:3]\n",
        "\n",
        "x_test=x[-test_size:]\n",
        "y_test=y[-test_size:,:3]\n",
        "\n",
        "#y=np.identity(3)[labels]"
      ],
      "execution_count": 0,
      "outputs": []
    },
    {
      "cell_type": "code",
      "metadata": {
        "id": "i1tjCpHqQmBB",
        "colab_type": "code",
        "outputId": "960e9d9b-6df2-4c9f-c164-66cd1a5fcb25",
        "colab": {
          "base_uri": "https://localhost:8080/",
          "height": 34
        }
      },
      "source": [
        "y_train.shape"
      ],
      "execution_count": 332,
      "outputs": [
        {
          "output_type": "execute_result",
          "data": {
            "text/plain": [
              "(105, 3)"
            ]
          },
          "metadata": {
            "tags": []
          },
          "execution_count": 332
        }
      ]
    },
    {
      "cell_type": "markdown",
      "metadata": {
        "id": "Hcu9J9VCLNj0",
        "colab_type": "text"
      },
      "source": [
        "<Train에 관한>"
      ]
    },
    {
      "cell_type": "code",
      "metadata": {
        "id": "wiD8Ocbl5RnI",
        "colab_type": "code",
        "colab": {}
      },
      "source": [
        "#define I,N,J,K\n",
        "\n",
        "I,N = x_train.shape #unpacking #입력층 노드4개\n",
        "J = y_train.shape[1] #출력층 3개\n",
        "K = 10 #자유롭게 지정가능  #히든층 5개\n"
      ],
      "execution_count": 0,
      "outputs": []
    },
    {
      "cell_type": "code",
      "metadata": {
        "id": "Ft-WUQ-bSgDN",
        "colab_type": "code",
        "outputId": "3219c70a-5bef-40b2-904b-7647549d925f",
        "colab": {
          "base_uri": "https://localhost:8080/",
          "height": 34
        }
      },
      "source": [
        "J"
      ],
      "execution_count": 334,
      "outputs": [
        {
          "output_type": "execute_result",
          "data": {
            "text/plain": [
              "3"
            ]
          },
          "metadata": {
            "tags": []
          },
          "execution_count": 334
        }
      ]
    },
    {
      "cell_type": "code",
      "metadata": {
        "id": "Ad3Th0by5qcv",
        "colab_type": "code",
        "colab": {}
      },
      "source": [
        "#x-bar\n",
        "x_bar = np.hstack((np.ones((I,1)),x_train)) \n",
        "\n",
        "#파라미터 초기화\n",
        "v=np.random.rand(N+1,K)\n",
        "w=np.random.rand(K+1,J)\n"
      ],
      "execution_count": 0,
      "outputs": []
    },
    {
      "cell_type": "code",
      "metadata": {
        "id": "7R0P3eHyVyPC",
        "colab_type": "code",
        "colab": {}
      },
      "source": [
        "alpha1=0.01\n",
        "alpha2=0.01\n",
        "\n",
        "max_epoch=1500"
      ],
      "execution_count": 0,
      "outputs": []
    },
    {
      "cell_type": "code",
      "metadata": {
        "id": "tseS0UEQ5GbU",
        "colab_type": "code",
        "colab": {}
      },
      "source": [
        "def sigmoid(z):\n",
        "  return 1./(np.ones_like(z)+np.exp(-z))"
      ],
      "execution_count": 0,
      "outputs": []
    },
    {
      "cell_type": "code",
      "metadata": {
        "id": "KtA8mX-u5Ios",
        "colab_type": "code",
        "colab": {}
      },
      "source": [
        "def SSE(g,y):\n",
        "  result=0;\n",
        "  for i in range(g.shape[0]):\n",
        "    for j in range(g.shape[1]):\n",
        "      result+= (g[i,j]-y_train[i,j])**2\n",
        "\n",
        "  return result/2 \n"
      ],
      "execution_count": 0,
      "outputs": []
    },
    {
      "cell_type": "code",
      "metadata": {
        "id": "q-R7Uz_Q7z_r",
        "colab_type": "code",
        "colab": {}
      },
      "source": [
        "error_train=np.zeros(max_epoch)\n",
        "error_test=np.zeros(max_epoch)"
      ],
      "execution_count": 0,
      "outputs": []
    },
    {
      "cell_type": "code",
      "metadata": {
        "id": "-1LFe_zj5Kf9",
        "colab_type": "code",
        "outputId": "2bd97b50-578c-443c-d74d-021ab0b6e3bc",
        "colab": {
          "base_uri": "https://localhost:8080/",
          "height": 281
        }
      },
      "source": [
        "for epoch in range(max_epoch): \n",
        "#순전파\n",
        "  x_bar_bar = np.array(np.dot(x_bar, v),dtype=np.float32)\n",
        " # z=np.array(np.dot(X, T),dtype=np.float32)\n",
        "  F= sigmoid(x_bar_bar)\n",
        "  F_bar= np.hstack((np.ones((I,1)), F))\n",
        "  F_bar_bar= np.dot(F_bar, w)\n",
        "  G = sigmoid(F_bar_bar)\n",
        "\n",
        "#역전파\n",
        "\n",
        "#출력층 단계\n",
        "  for k in range(0,K+1):\n",
        "    for j in range(0,J):\n",
        "      for i in range(0,I):\n",
        "        w[k,j]-= alpha1*(G[i,j]-y_train[i,j])*G[i,j]*(1-G[i,j])*F_bar[i,k]\n",
        "\n",
        "#은닉 층 단계\n",
        "  for n in range(0,N+1):\n",
        "    for k in range(0,K):\n",
        "      for i in range(0,I):\n",
        "        for j in range(0,J):\n",
        "          v[n,k]-= alpha2*(G[i,j]-y_train[i,j])*G[i,j]*(1-G[i,j])*w[k,j]*F[i,k]*(1-F[i,k])*x_bar[i,n]\n",
        "\n",
        "  error =SSE(G,y)\n",
        "\n",
        "  error_train[epoch]=error\n",
        "  if epoch%100 ==0:\n",
        "    print(\"epoch:%d, error:%.2f\" %(epoch,error))"
      ],
      "execution_count": 340,
      "outputs": [
        {
          "output_type": "stream",
          "text": [
            "epoch:0, error:103.81\n",
            "epoch:100, error:51.54\n",
            "epoch:200, error:49.03\n",
            "epoch:300, error:46.96\n",
            "epoch:400, error:17.63\n",
            "epoch:500, error:16.06\n",
            "epoch:600, error:15.24\n",
            "epoch:700, error:15.65\n",
            "epoch:800, error:15.73\n",
            "epoch:900, error:15.57\n",
            "epoch:1000, error:15.46\n",
            "epoch:1100, error:15.40\n",
            "epoch:1200, error:15.35\n",
            "epoch:1300, error:15.32\n",
            "epoch:1400, error:15.30\n"
          ],
          "name": "stdout"
        }
      ]
    },
    {
      "cell_type": "code",
      "metadata": {
        "id": "V4WfBpoiKbWu",
        "colab_type": "code",
        "colab": {}
      },
      "source": [
        ""
      ],
      "execution_count": 0,
      "outputs": []
    },
    {
      "cell_type": "code",
      "metadata": {
        "id": "EzXE-HFv9aqN",
        "colab_type": "code",
        "colab": {}
      },
      "source": [
        "def h(x,v,w):\n",
        "  _x_bar = np.hstack((np.ones((x.shape[0],1)),x)) \n",
        "  _x_bar_bar = np.array(np.dot(_x_bar, v), dtype=np.float32)\n",
        " \n",
        "  _F= sigmoid(_x_bar_bar)\n",
        "  \n",
        "  _F_bar= np.hstack((np.ones((x.shape[0],1)), _F))\n",
        "  _F_bar_bar= np.array(np.dot(_F_bar, w), dtype=np.float32)\n",
        "  _G = sigmoid(_F_bar_bar)\n",
        "\n",
        "  return _G"
      ],
      "execution_count": 0,
      "outputs": []
    },
    {
      "cell_type": "code",
      "metadata": {
        "id": "fyT1EzZX9du8",
        "colab_type": "code",
        "colab": {}
      },
      "source": [
        "g=h(x_train,v,w)\n",
        "#셋중 큰게 정답"
      ],
      "execution_count": 0,
      "outputs": []
    },
    {
      "cell_type": "code",
      "metadata": {
        "id": "WHh61GG39gsh",
        "colab_type": "code",
        "colab": {}
      },
      "source": [
        "labels_train=np.argmax(g, axis=1)"
      ],
      "execution_count": 0,
      "outputs": []
    },
    {
      "cell_type": "code",
      "metadata": {
        "id": "iB6btjlELn1I",
        "colab_type": "code",
        "colab": {
          "base_uri": "https://localhost:8080/",
          "height": 105
        },
        "outputId": "f717c541-f084-437b-fac6-095f40af3bcd"
      },
      "source": [
        "labels_train"
      ],
      "execution_count": 344,
      "outputs": [
        {
          "output_type": "execute_result",
          "data": {
            "text/plain": [
              "array([2, 2, 1, 2, 1, 1, 1, 1, 1, 2, 2, 1, 1, 2, 1, 1, 1, 1, 1, 1, 1, 2,\n",
              "       1, 1, 1, 2, 1, 1, 2, 2, 2, 2, 1, 2, 1, 2, 2, 2, 1, 2, 2, 2, 1, 1,\n",
              "       2, 1, 1, 1, 1, 2, 2, 2, 1, 1, 2, 2, 2, 1, 1, 2, 1, 2, 1, 1, 1, 2,\n",
              "       2, 2, 1, 1, 1, 2, 1, 1, 1, 2, 1, 2, 1, 1, 2, 2, 2, 1, 1, 2, 1, 1,\n",
              "       1, 1, 2, 1, 1, 1, 1, 1, 1, 2, 1, 2, 2, 2, 1, 2, 1])"
            ]
          },
          "metadata": {
            "tags": []
          },
          "execution_count": 344
        }
      ]
    },
    {
      "cell_type": "markdown",
      "metadata": {
        "id": "2sv2kmKULWlz",
        "colab_type": "text"
      },
      "source": [
        "<TEST에 관한>"
      ]
    },
    {
      "cell_type": "code",
      "metadata": {
        "id": "DnvsvUqwLYa1",
        "colab_type": "code",
        "colab": {}
      },
      "source": [
        "I,N = x_test.shape #unpacking #입력층 노드4개\n",
        "J = y_test.shape[1] #출력층 3개\n",
        "K = 10 #자유롭게 지정가능  #히든층 5개"
      ],
      "execution_count": 0,
      "outputs": []
    },
    {
      "cell_type": "code",
      "metadata": {
        "id": "QSOapytqL8r9",
        "colab_type": "code",
        "colab": {}
      },
      "source": [
        "#x-bar\n",
        "x_bar = np.hstack((np.ones((I,1)),x_test)) \n",
        "\n",
        "#파라미터 초기화\n",
        "v=np.random.rand(N+1,K)\n",
        "w=np.random.rand(K+1,J)\n"
      ],
      "execution_count": 0,
      "outputs": []
    },
    {
      "cell_type": "code",
      "metadata": {
        "id": "soQO3F0qLb-F",
        "colab_type": "code",
        "colab": {
          "base_uri": "https://localhost:8080/",
          "height": 281
        },
        "outputId": "96a58d8e-a233-4fae-fe47-7d2187d23993"
      },
      "source": [
        "for epoch in range(max_epoch): \n",
        "#순전파\n",
        "  x_bar_bar = np.array(np.dot(x_bar, v),dtype=np.float32)\n",
        " # z=np.array(np.dot(X, T),dtype=np.float32)\n",
        "  F= sigmoid(x_bar_bar)\n",
        "  F_bar= np.hstack((np.ones((I,1)), F))\n",
        "  F_bar_bar= np.dot(F_bar, w)\n",
        "  G = sigmoid(F_bar_bar)\n",
        "\n",
        "#역전파\n",
        "\n",
        "#출력층 단계\n",
        "  for k in range(0,K+1):\n",
        "    for j in range(0,J):\n",
        "      for i in range(0,I):\n",
        "        w[k,j]-= alpha1*(G[i,j]-y_test[i,j])*G[i,j]*(1-G[i,j])*F_bar[i,k]\n",
        "\n",
        "#은닉 층 단계\n",
        "  for n in range(0,N+1):\n",
        "    for k in range(0,K):\n",
        "      for i in range(0,I):\n",
        "        for j in range(0,J):\n",
        "          v[n,k]-= alpha2*(G[i,j]-y_test[i,j])*G[i,j]*(1-G[i,j])*w[k,j]*F[i,k]*(1-F[i,k])*x_bar[i,n]\n",
        "\n",
        "  error =SSE(G,y)\n",
        "\n",
        "  error_test[epoch]=error*7/3\n",
        "  if epoch%100 ==0:\n",
        "    print(\"epoch:%d, error:%.2f\" %(epoch,error))"
      ],
      "execution_count": 347,
      "outputs": [
        {
          "output_type": "stream",
          "text": [
            "epoch:0, error:43.89\n",
            "epoch:100, error:29.61\n",
            "epoch:200, error:29.70\n",
            "epoch:300, error:29.63\n",
            "epoch:400, error:18.12\n",
            "epoch:500, error:17.94\n",
            "epoch:600, error:17.94\n",
            "epoch:700, error:17.95\n",
            "epoch:800, error:17.96\n",
            "epoch:900, error:17.98\n",
            "epoch:1000, error:17.99\n",
            "epoch:1100, error:18.00\n",
            "epoch:1200, error:17.99\n",
            "epoch:1300, error:17.97\n",
            "epoch:1400, error:17.94\n"
          ],
          "name": "stdout"
        }
      ]
    },
    {
      "cell_type": "code",
      "metadata": {
        "id": "SDIABkVzLiwn",
        "colab_type": "code",
        "colab": {}
      },
      "source": [
        "g=h(x_test,v,w)\n",
        "#셋중 큰게 정답"
      ],
      "execution_count": 0,
      "outputs": []
    },
    {
      "cell_type": "code",
      "metadata": {
        "id": "pjAERSeILjPw",
        "colab_type": "code",
        "colab": {}
      },
      "source": [
        "labels_test=np.argmax(g, axis=1)"
      ],
      "execution_count": 0,
      "outputs": []
    },
    {
      "cell_type": "code",
      "metadata": {
        "id": "PJETtoPOMMee",
        "colab_type": "code",
        "colab": {
          "base_uri": "https://localhost:8080/",
          "height": 70
        },
        "outputId": "658cd7dc-c1b0-47cc-b693-da6ab92aeae8"
      },
      "source": [
        "labels_test"
      ],
      "execution_count": 350,
      "outputs": [
        {
          "output_type": "execute_result",
          "data": {
            "text/plain": [
              "array([0, 0, 0, 0, 0, 0, 0, 0, 0, 0, 0, 0, 0, 0, 0, 0, 0, 0, 0, 0, 0, 0,\n",
              "       0, 0, 0, 0, 0, 0, 0, 0, 0, 0, 0, 0, 0, 0, 0, 0, 0, 0, 0, 0, 0, 0,\n",
              "       0])"
            ]
          },
          "metadata": {
            "tags": []
          },
          "execution_count": 350
        }
      ]
    },
    {
      "cell_type": "markdown",
      "metadata": {
        "id": "JRamfMv2_cnj",
        "colab_type": "text"
      },
      "source": [
        "6.plot"
      ]
    },
    {
      "cell_type": "code",
      "metadata": {
        "id": "vgKdRchqAq40",
        "colab_type": "code",
        "colab": {
          "base_uri": "https://localhost:8080/",
          "height": 281
        },
        "outputId": "219a328b-4e02-4ccd-dfd8-bfe5ccc66170"
      },
      "source": [
        "epoch_length=np.arange(0,max_epoch,1)\n",
        "plt.plot(epoch_length,error_train,'b',label='train')\n",
        "plt.plot(epoch_length,error_test,'r',label='test')\n",
        "plt.title('Plot error')\n",
        "plt.legend()\n",
        "plt.show()"
      ],
      "execution_count": 351,
      "outputs": [
        {
          "output_type": "display_data",
          "data": {
            "image/png": "[encoded data removed]",
            "text/plain": [
              "<Figure size 432x288 with 1 Axes>"
            ]
          },
          "metadata": {
            "tags": [],
            "needs_background": "light"
          }
        }
      ]
    },
    {
      "cell_type": "code",
      "metadata": {
        "id": "sKahbbc0NP1v",
        "colab_type": "code",
        "colab": {}
      },
      "source": [
        ""
      ],
      "execution_count": 0,
      "outputs": []
    }
  ]
}