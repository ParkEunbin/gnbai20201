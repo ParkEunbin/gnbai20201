{
  "nbformat": 4,
  "nbformat_minor": 0,
  "metadata": {
    "colab": {
      "name": "gnbai_lab5.ipynb",
      "provenance": [],
      "collapsed_sections": [
        "JPygETmxFP4w"
      ],
      "authorship_tag": "ABX9TyOzm8Np6Ir3M51ii0yJgf0H",
      "include_colab_link": true
    },
    "kernelspec": {
      "name": "python3",
      "display_name": "Python 3"
    }
  },
  "cells": [
    {
      "cell_type": "markdown",
      "metadata": {
        "id": "view-in-github",
        "colab_type": "text"
      },
      "source": [
        "<a href=\"https://colab.research.google.com/github/ParkEunbin/gnbai20201/blob/master/lab5/gnbai_lab5.ipynb\" target=\"_parent\"><img src=\"https://colab.research.google.com/assets/colab-badge.svg\" alt=\"Open In Colab\"/></a>"
      ]
    },
    {
      "cell_type": "code",
      "metadata": {
        "id": "r3DrCF6n6AJf",
        "colab_type": "code",
        "colab": {}
      },
      "source": [
        "import numpy as np\n",
        "import pandas as pd\n"
      ],
      "execution_count": 0,
      "outputs": []
    },
    {
      "cell_type": "code",
      "metadata": {
        "id": "NYRSmpYq6-3A",
        "colab_type": "code",
        "colab": {}
      },
      "source": [
        "def load_iris_data(split_rate=0.7):\n",
        "  # read file\n",
        "  path=\"/content/iris.csv\"\n",
        "  colum_names=['sepal_length','sepal_width','petal_length','petal_width','class']\n",
        "  data_pd=pd.read_csv(path, names=colum_names)\n",
        "  #안의 값만 가지고 행렬로 만들어줌\n",
        "  data_np=data_pd.values\n",
        "\n",
        "  # shuffle\n",
        "  np.random.shuffle(data_np)\n",
        "\n",
        "  # define x \n",
        "  x=data_np[:, :4].astype(np.float)\n",
        "\n",
        "  # define y as one-hot encoding\n",
        "  # A(0), B(1), C(2) // 0->[100],1->[010],2->[001]\n",
        "  names=['Iris-setosa','Iris-versicolor','Iris-virginica']\n",
        "  labels=data_np[:,4]\n",
        "  y=np.asarray([[name==label for name in names] for label in labels],dtype=np.int)\n",
        "\n",
        "  #split\n",
        "  #len: 행갯수만 나옴\n",
        "  train_size=int(len(data_np)*split_rate)\n",
        "  test_size=len(data_np)-train_size\n",
        "\n",
        "  x_train=x[:train_size]\n",
        "  x_test=x[-test_size:]\n",
        "  y_train=y[:train_size]\n",
        "  y_test=y[-test_size:]\n",
        "\n",
        "  #clear memory 공간 큰애들날리기\n",
        "  del data_pd, data_np, x, y, labels\n",
        "\n",
        "  return x_train, y_train,x_test,y_test"
      ],
      "execution_count": 0,
      "outputs": []
    },
    {
      "cell_type": "code",
      "metadata": {
        "id": "MMvnhvkDDaPC",
        "colab_type": "code",
        "colab": {}
      },
      "source": [
        "x_train, y_train,x_test,y_test= load_iris_data()"
      ],
      "execution_count": 0,
      "outputs": []
    },
    {
      "cell_type": "markdown",
      "metadata": {
        "id": "hEJ4Gm-IDwph",
        "colab_type": "text"
      },
      "source": [
        "2.Tensorflow"
      ]
    },
    {
      "cell_type": "code",
      "metadata": {
        "id": "-wjdHP1ADwRa",
        "colab_type": "code",
        "colab": {}
      },
      "source": [
        "import tensorflow as tf"
      ],
      "execution_count": 0,
      "outputs": []
    },
    {
      "cell_type": "code",
      "metadata": {
        "id": "pHMgSEHMD6I2",
        "colab_type": "code",
        "colab": {
          "base_uri": "https://localhost:8080/",
          "height": 34
        },
        "outputId": "1b7246c3-1b16-439d-a8fe-8bec162cfdb4"
      },
      "source": [
        "tf.__version__"
      ],
      "execution_count": 41,
      "outputs": [
        {
          "output_type": "execute_result",
          "data": {
            "text/plain": [
              "'2.2.0'"
            ]
          },
          "metadata": {
            "tags": []
          },
          "execution_count": 41
        }
      ]
    },
    {
      "cell_type": "markdown",
      "metadata": {
        "id": "JPygETmxFP4w",
        "colab_type": "text"
      },
      "source": [
        "데이터 만들고\n",
        "모델을 먼저 정의해주고\n",
        "테스트하는 순서"
      ]
    },
    {
      "cell_type": "code",
      "metadata": {
        "id": "5szyMXJRD9te",
        "colab_type": "code",
        "colab": {}
      },
      "source": [
        "#리스트 순서대로 모델을 만듦\n",
        "model = tf.keras.models.Sequential([\n",
        "  #입력층, 은닉층->10개\n",
        "  #tf.keras.layers.Dense(10, activation='sigmoid',input_shape=(4,)),\n",
        "  #'sigmoid'성능이 별루임 // relu: 0이하는 0 이상은 일차식->미분이 간단->시간 단축 등 이득\n",
        "  tf.keras.layers.Dense(10, activation='relu',input_shape=(4,)),\n",
        "  #출력층->3개(y갯수)\n",
        "  #tf.keras.layers.Dense(3,activation='sigmoid')\n",
        "  #'softmax' : 합이 1이 나오도록해줌-> 그중 젤 큰거 고른는 식으로 분류\n",
        "  tf.keras.layers.Dense(3,activation='softmax')\n",
        "\n",
        "])"
      ],
      "execution_count": 0,
      "outputs": []
    },
    {
      "cell_type": "code",
      "metadata": {
        "id": "4dldCYeNGJ-n",
        "colab_type": "code",
        "colab": {}
      },
      "source": [
        "# optimizer : 파라미터를 최적화 하는 방법(ex: 경사하강법, 확률적 경사하강법sgd,,,등등)\n",
        "# loss : 오차함수 error= 비용 cost = 손실 loss->'categorical_crossentropy' 분류문제에 적합함 //'sse' 회귀문제에 적합\n",
        "# 다른 평가항목을 넣고 싶음->metrics\n",
        "\n",
        "#model.compile(optimizer='sgd',loss='categorical_crossentropy',metrics=['accuracy'])\n",
        "model.compile(optimizer='adam',loss='categorical_crossentropy',metrics=['accuracy'])"
      ],
      "execution_count": 0,
      "outputs": []
    },
    {
      "cell_type": "code",
      "metadata": {
        "id": "vEaYdqIeIVCw",
        "colab_type": "code",
        "colab": {
          "base_uri": "https://localhost:8080/",
          "height": 1000
        },
        "outputId": "7e9e8c2a-40bc-431f-80fd-09131dce6446"
      },
      "source": [
        "model.fit(x_train,y_train,epochs=50)"
      ],
      "execution_count": 57,
      "outputs": [
        {
          "output_type": "stream",
          "text": [
            "Epoch 1/50\n",
            "4/4 [==============================] - 0s 2ms/step - loss: 0.6362 - accuracy: 0.6667\n",
            "Epoch 2/50\n",
            "4/4 [==============================] - 0s 2ms/step - loss: 0.6325 - accuracy: 0.6667\n",
            "Epoch 3/50\n",
            "4/4 [==============================] - 0s 2ms/step - loss: 0.6296 - accuracy: 0.6667\n",
            "Epoch 4/50\n",
            "4/4 [==============================] - 0s 2ms/step - loss: 0.6258 - accuracy: 0.6667\n",
            "Epoch 5/50\n",
            "4/4 [==============================] - 0s 2ms/step - loss: 0.6229 - accuracy: 0.6667\n",
            "Epoch 6/50\n",
            "4/4 [==============================] - 0s 2ms/step - loss: 0.6190 - accuracy: 0.6667\n",
            "Epoch 7/50\n",
            "4/4 [==============================] - 0s 2ms/step - loss: 0.6158 - accuracy: 0.6667\n",
            "Epoch 8/50\n",
            "4/4 [==============================] - 0s 2ms/step - loss: 0.6125 - accuracy: 0.6762\n",
            "Epoch 9/50\n",
            "4/4 [==============================] - 0s 2ms/step - loss: 0.6095 - accuracy: 0.7048\n",
            "Epoch 10/50\n",
            "4/4 [==============================] - 0s 1ms/step - loss: 0.6066 - accuracy: 0.7524\n",
            "Epoch 11/50\n",
            "4/4 [==============================] - 0s 2ms/step - loss: 0.6036 - accuracy: 0.7714\n",
            "Epoch 12/50\n",
            "4/4 [==============================] - 0s 2ms/step - loss: 0.6005 - accuracy: 0.7714\n",
            "Epoch 13/50\n",
            "4/4 [==============================] - 0s 2ms/step - loss: 0.5975 - accuracy: 0.7619\n",
            "Epoch 14/50\n",
            "4/4 [==============================] - 0s 2ms/step - loss: 0.5948 - accuracy: 0.7048\n",
            "Epoch 15/50\n",
            "4/4 [==============================] - 0s 2ms/step - loss: 0.5918 - accuracy: 0.7048\n",
            "Epoch 16/50\n",
            "4/4 [==============================] - 0s 2ms/step - loss: 0.5896 - accuracy: 0.7048\n",
            "Epoch 17/50\n",
            "4/4 [==============================] - 0s 2ms/step - loss: 0.5861 - accuracy: 0.6952\n",
            "Epoch 18/50\n",
            "4/4 [==============================] - 0s 2ms/step - loss: 0.5834 - accuracy: 0.6952\n",
            "Epoch 19/50\n",
            "4/4 [==============================] - 0s 2ms/step - loss: 0.5805 - accuracy: 0.6952\n",
            "Epoch 20/50\n",
            "4/4 [==============================] - 0s 1ms/step - loss: 0.5782 - accuracy: 0.7238\n",
            "Epoch 21/50\n",
            "4/4 [==============================] - 0s 1ms/step - loss: 0.5756 - accuracy: 0.7524\n",
            "Epoch 22/50\n",
            "4/4 [==============================] - 0s 1ms/step - loss: 0.5728 - accuracy: 0.8190\n",
            "Epoch 23/50\n",
            "4/4 [==============================] - 0s 2ms/step - loss: 0.5702 - accuracy: 0.8667\n",
            "Epoch 24/50\n",
            "4/4 [==============================] - 0s 2ms/step - loss: 0.5683 - accuracy: 0.9048\n",
            "Epoch 25/50\n",
            "4/4 [==============================] - 0s 2ms/step - loss: 0.5658 - accuracy: 0.9238\n",
            "Epoch 26/50\n",
            "4/4 [==============================] - 0s 2ms/step - loss: 0.5632 - accuracy: 0.9333\n",
            "Epoch 27/50\n",
            "4/4 [==============================] - 0s 2ms/step - loss: 0.5604 - accuracy: 0.8667\n",
            "Epoch 28/50\n",
            "4/4 [==============================] - 0s 2ms/step - loss: 0.5579 - accuracy: 0.8095\n",
            "Epoch 29/50\n",
            "4/4 [==============================] - 0s 2ms/step - loss: 0.5554 - accuracy: 0.7048\n",
            "Epoch 30/50\n",
            "4/4 [==============================] - 0s 2ms/step - loss: 0.5531 - accuracy: 0.6762\n",
            "Epoch 31/50\n",
            "4/4 [==============================] - 0s 2ms/step - loss: 0.5511 - accuracy: 0.6667\n",
            "Epoch 32/50\n",
            "4/4 [==============================] - 0s 2ms/step - loss: 0.5488 - accuracy: 0.6667\n",
            "Epoch 33/50\n",
            "4/4 [==============================] - 0s 2ms/step - loss: 0.5466 - accuracy: 0.6667\n",
            "Epoch 34/50\n",
            "4/4 [==============================] - 0s 2ms/step - loss: 0.5450 - accuracy: 0.6762\n",
            "Epoch 35/50\n",
            "4/4 [==============================] - 0s 2ms/step - loss: 0.5420 - accuracy: 0.7143\n",
            "Epoch 36/50\n",
            "4/4 [==============================] - 0s 2ms/step - loss: 0.5398 - accuracy: 0.7524\n",
            "Epoch 37/50\n",
            "4/4 [==============================] - 0s 2ms/step - loss: 0.5378 - accuracy: 0.7429\n",
            "Epoch 38/50\n",
            "4/4 [==============================] - 0s 2ms/step - loss: 0.5354 - accuracy: 0.7143\n",
            "Epoch 39/50\n",
            "4/4 [==============================] - 0s 2ms/step - loss: 0.5336 - accuracy: 0.6857\n",
            "Epoch 40/50\n",
            "4/4 [==============================] - 0s 2ms/step - loss: 0.5314 - accuracy: 0.6762\n",
            "Epoch 41/50\n",
            "4/4 [==============================] - 0s 2ms/step - loss: 0.5298 - accuracy: 0.6667\n",
            "Epoch 42/50\n",
            "4/4 [==============================] - 0s 2ms/step - loss: 0.5287 - accuracy: 0.6667\n",
            "Epoch 43/50\n",
            "4/4 [==============================] - 0s 2ms/step - loss: 0.5275 - accuracy: 0.6667\n",
            "Epoch 44/50\n",
            "4/4 [==============================] - 0s 2ms/step - loss: 0.5248 - accuracy: 0.6667\n",
            "Epoch 45/50\n",
            "4/4 [==============================] - 0s 2ms/step - loss: 0.5225 - accuracy: 0.6762\n",
            "Epoch 46/50\n",
            "4/4 [==============================] - 0s 2ms/step - loss: 0.5195 - accuracy: 0.6952\n",
            "Epoch 47/50\n",
            "4/4 [==============================] - 0s 2ms/step - loss: 0.5175 - accuracy: 0.7619\n",
            "Epoch 48/50\n",
            "4/4 [==============================] - 0s 2ms/step - loss: 0.5151 - accuracy: 0.8476\n",
            "Epoch 49/50\n",
            "4/4 [==============================] - 0s 2ms/step - loss: 0.5136 - accuracy: 0.9143\n",
            "Epoch 50/50\n",
            "4/4 [==============================] - 0s 2ms/step - loss: 0.5129 - accuracy: 0.9714\n"
          ],
          "name": "stdout"
        },
        {
          "output_type": "execute_result",
          "data": {
            "text/plain": [
              "<tensorflow.python.keras.callbacks.History at 0x7fb4ce51f5f8>"
            ]
          },
          "metadata": {
            "tags": []
          },
          "execution_count": 57
        }
      ]
    },
    {
      "cell_type": "code",
      "metadata": {
        "id": "JEacNn7pLlhX",
        "colab_type": "code",
        "colab": {
          "base_uri": "https://localhost:8080/",
          "height": 272
        },
        "outputId": "a077861a-0f80-4060-8eb3-bda51ec2f964"
      },
      "source": [
        "tf.keras.utils.plot_model(model)"
      ],
      "execution_count": 59,
      "outputs": [
        {
          "output_type": "execute_result",
          "data": {
            "image/png": "[encoded data removed]",
            "text/plain": [
              "<IPython.core.display.Image object>"
            ]
          },
          "metadata": {
            "tags": []
          },
          "execution_count": 59
        }
      ]
    },
    {
      "cell_type": "code",
      "metadata": {
        "id": "moHjI2o4LuGu",
        "colab_type": "code",
        "colab": {
          "base_uri": "https://localhost:8080/",
          "height": 228
        },
        "outputId": "4c006a87-e40b-4bdf-b282-5d73cf68792b"
      },
      "source": [
        "model.summary()"
      ],
      "execution_count": 60,
      "outputs": [
        {
          "output_type": "stream",
          "text": [
            "Model: \"sequential_1\"\n",
            "_________________________________________________________________\n",
            "Layer (type)                 Output Shape              Param #   \n",
            "=================================================================\n",
            "dense_2 (Dense)              (None, 10)                50        \n",
            "_________________________________________________________________\n",
            "dense_3 (Dense)              (None, 3)                 33        \n",
            "=================================================================\n",
            "Total params: 83\n",
            "Trainable params: 83\n",
            "Non-trainable params: 0\n",
            "_________________________________________________________________\n"
          ],
          "name": "stdout"
        }
      ]
    },
    {
      "cell_type": "code",
      "metadata": {
        "id": "IlbKaP1NI2av",
        "colab_type": "code",
        "colab": {
          "base_uri": "https://localhost:8080/",
          "height": 52
        },
        "outputId": "926c6f48-2dab-4395-9190-90efb408b3bb"
      },
      "source": [
        "model.evaluate(x_test,y_test)"
      ],
      "execution_count": 58,
      "outputs": [
        {
          "output_type": "stream",
          "text": [
            "2/2 [==============================] - 0s 3ms/step - loss: 0.5040 - accuracy: 0.9556\n"
          ],
          "name": "stdout"
        },
        {
          "output_type": "execute_result",
          "data": {
            "text/plain": [
              "[0.5040267705917358, 0.9555555582046509]"
            ]
          },
          "metadata": {
            "tags": []
          },
          "execution_count": 58
        }
      ]
    }
  ]
}